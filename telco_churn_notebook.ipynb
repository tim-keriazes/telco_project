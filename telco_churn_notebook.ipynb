{
 "cells": [
  {
   "cell_type": "markdown",
   "id": "29478f64",
   "metadata": {},
   "source": [
    "___ \n",
    "# Classification Project: Telco Churn\n",
    "### By Tim Keriazes\n",
    "\n",
    "___\n",
    "### About the Project\n",
    "\n",
    "### Objective:\n",
    "\n",
    "My goal for this project was to discover the driving factors for customer churn at Telco. I will do this through the acquistition, preparation, and exploration of the telco customer data set. This will enable statistical testing, modeling, and model evaluations to be conducted in order to accurately predict customer churn and its driving factors. With that knowledge I will provide Telco a set of recommended actions to reduce churn and increase customer retention.\n",
    "\n",
    "### Initial Hypothesis/Questions:\n",
    "My intitial hypothesis was that the biggest driver to churn was the high cost of service for month to month customers, conversely, I believed that those locked in a annual or multi-year contracts would be far less likely to churn. Additional factors may be payment type customer utilizes, and customer tenure (which is inherently related to contract type), and internet service type.\n",
    "\n",
    "### Project Planning:\n",
    "I will explore my hypothesis through the acquistition, preparation, and exploration of the telco customer data set. This will enable statistical testing, modeling, and model evaluations to be conducted in order to accurately predict customer churn and its driving factors.\n",
    "___\n",
    "### Data Dictionary:\n",
    "\n",
    "# <a name=\"data-dictionary\"></a>Data Dictionary\n",
    "|    index    |                              column/feature name                             | dtype                                        |  key/description  |                                                        |\n",
    "|:-----------------:|:--------------------------------------------------------------------:|--------------------------------------------|:-------:|:------------------------------------------------------------------:|\n",
    " |0   |senior_citizen                         |7032 non-null   int64   |1 = senior citizen, 0 = not senior citizen\n",
    " |1  |tenure                                 |7032 non-null   int64   |Length in Months\n",
    " |2   |monthly_charges                        |7032 non-null   float64 |Monthly charges in dollars\n",
    " |3   |total_charges                          |7032 non-null   float64 |Total charges in dollars annually\n",
    " |4   |churn                                  |7032 non-null   object  | Yes or No \n",
    " |5   |contract_type                          |7032 non-null   object  |Month to Month, One Year, Two Year\n",
    " |6   |internet_service_type                  |7032 non-null   object  |DSl, Fiber optic, none\n",
    " |7   |payment_type                           |7032 non-null   object  |Mailed Check, Electronic Check, Credit Card (automatic), Bank Transfer(automatic)\n",
    " |8   |gender_encoded                         |7032 non-null   int64   |1 = female, 0 = male\n",
    " |9   |partner_encoded                        |7032 non-null   int64   |1 = Yes, 0 = No\n",
    " |10  |dependents_encoded                     |7032 non-null   int64   |1 = Yes, 0 = No\n",
    " |11  |phone_service_encoded                  |7032 non-null   int64   |1 = Yes, 0 = No\n",
    " |12  |paperless_billing_encoded              |7032 non-null   int64   |1 = Yes, 0 = No\n",
    " |13  |churn_encoded                          |7032 non-null   int64   |1 = Yes, 0 = No\n",
    " |14  |multiple_lines_No phone service        |7032 non-null   uint8   |1 = Yes, 0 = No\n",
    " |15  |multiple_lines_Yes                     |7032 non-null   uint8   |1 = Yes, 0 = No\n",
    " |16  |online_security_No internet service    |7032 non-null   uint8   |1 = Yes, 0 = No\n",
    " |17  |online_security_Yes                    |7032 non-null   uint8   |1 = Yes, 0 = No\n",
    " |18  |online_backup_No internet service      |7032 non-null   uint8   |1 = Yes, 0 = No\n",
    " |19  |online_backup_Yes                      |7032 non-null   uint8   |1 = Yes, 0 = No\n",
    " |20  |device_protection_No internet service  |7032 non-null   uint8   |1 = Yes, 0 = No\n",
    " |21  |device_protection_Yes                  |7032 non-null   uint8   |1 = Yes, 0 = No\n",
    " |22  |tech_support_No internet service       |7032 non-null   uint8   |1 = Yes, 0 = No\n",
    " |23  |tech_support_Yes                       |7032 non-null   uint8   |1 = Yes, 0 = No\n",
    " |24  |streaming_tv_No internet service       |7032 non-null   uint8   |1 = Yes, 0 = No\n",
    " |25  |streaming_tv_Yes                       |7032 non-null   uint8   |1 = Yes, 0 = No\n",
    " |26  |streaming_movies_No internet service   |7032 non-null   uint8   |1 = Yes, 0 = No\n",
    " |27  |streaming_movies_Yes                   |7032 non-null   uint8   |1 = Yes, 0 = No\n",
    " |28  |contract_type_One year                 |7032 non-null   uint8   |1 = Yes, 0 = No\n",
    " |29  |contract_type_Two year                 |7032 non-null   uint8   |1 = Yes, 0 = No\n",
    " |30  |internet_service_type_Fiber optic      |7032 non-null   uint8   |1 = Yes, 0 = No\n",
    " |31  |internet_service_type_None             |7032 non-null   uint8   |1 = Yes, 0 = No\n",
    " |32  |payment_type_Credit card (automatic)   |7032 non-null   uint8   |1 = Yes, 0 = No\n",
    " |33  |payment_type_Electronic check          |7032 non-null   uint8   |1 = Yes, 0 = No\n",
    " |34  |payment_type_Mailed check              |7032 non-null   uint8   |1 = Yes, 0 = No\n",
    "\n",
    "___\n",
    "### Key Findings:\n",
    "___\n",
    "### The overall churn rate for customers at Telco is 26.6%.\n",
    "  - Fiber optic customers make up 44.0% of customer base and churn at 18.4%.\n",
    "  - Month to month contract customers make up 55.1% of customer base and churn at 23.5%.\n",
    "  - Electronic check payment type customers make up 33.6% of customer base and churn at 15.2%.\n",
    "  - Senior citizens make up 16% of customer base and churn at 41.7%\n",
    "___  \n",
    "### Median tenure of churned customers: 10 months.\n",
    "  - Median tenure of month to month customers that have churned: 7 months.\n",
    "  - Median tenure of electronic check payment customers that have churned: 9 months.\n",
    "___\n",
    "### Average monthly charges: $64.80.\n",
    "  - Average monthly charges of customers who have churned: $74.44, 9.64 higher than average.\n",
    "  - Average monthly charges of fiber customers: $88.13, $23.33 higher than average.\n",
    "  - Average monthly charges of month to month customers: $73.02, $8.22 higher than average.\n",
    "  - Average monthly charges of electronic check payment customers: $78.70, $13.90 higher than average.\n",
    "___\n",
    "## Tested Hypotheses and Results\n",
    "#### 1. Ho : Mean of monthly charges of churned customers >= Mean of monthly charges of all customers\n",
    "####    Ha : Mean of monthly charges of churned customers < Mean of monthly charges of all customers\n",
    "#### We fail to reject Ho\n",
    "___\n",
    "#### 2. Ho: mean length tenure of churned customers is <= mean length tenure of all customers\n",
    "####    Ha: mean length tenure of churned customers is > mean length tenure of all customers\n",
    "#### We fail to reject Ho\n",
    "___\n",
    "#### 3. Charges of customers who churn significantly different than those who do not churn\n",
    "####    Ho: Charges of customers who churn equals that of those who don't churn.\n",
    "####    Ha: Charges of customers who churn is not equal to that of those who don't churn.\n",
    "#### We reject Ho, -t value and 0 p, significantly different\n",
    "___\n",
    "#### 4. Ho : Mean of monthly charges of churned fiber customers >= Mean of monthly charges of all customers\n",
    "####    Ha : Mean of monthly charges of churned fiber customers < Mean of monthly charges of all customers\n",
    "#### We fail to reject Ho\n",
    "___\n",
    "#### 5. Ho : Mean of monthly charges of churned month to month customers >= Mean of monthly charges of all customers\n",
    "####    Ha : Mean of monthly charges of churned month to month customers < Mean of monthly charges of all customers\n",
    "#### We fail to reject Ho\n",
    "___\n",
    "#### 6. Ho : Mean of monthly charges of churned electronic check customers >= Mean of monthly charges of all customers\n",
    "####    Ha : Mean of monthly charges of churned electronic customers < Mean of monthly charges of all customers\n",
    "#### We fail to reject Ho\n",
    "___\n",
    "\n",
    "## Instructions to reproduce the project and findings:\n",
    "\n",
    "1. Prep Your Repo, ensure you can pull db from mysql using credentials from your env.py and my acquire.py\n",
    "2. Import appropriate libraries and functions. utilize my prepare.py, aqcuire.py, explore.py\n",
    "2. Acquire Data: Read TELCO data from MySQL using the get_telco_data() function in acquire.py\n",
    "3. Clean, Prep & Split Data: Using functions tied to each other in prepare.py file:  prep_telco_data(), train_validate_test()\n",
    "5. Explore Data: List all categorical & quantitative variables/features. Run exploratory stats functions on Uni-/Bi-/Multi-Variate data found in explore.py and telco_churn_report.ipynb\n",
    "    - Hypothesis Testing\n",
    "6. Identify Baseline: establish baseline prediction and accuracy\n",
    "7. Modeling\n",
    "    - Train\n",
    "    - Validate\n",
    "    - Test\n",
    "8. Predict on Test Model\n",
    "9. Export Predictions to CSV"
   ]
  },
  {
   "cell_type": "code",
   "execution_count": 1,
   "id": "ebe24df5",
   "metadata": {},
   "outputs": [],
   "source": [
    "# pd & np libraries \n",
    "import pandas as pd\n",
    "import numpy as np\n",
    "\n",
    "import prepare\n",
    "\n",
    "# visualizers I'll be using\n",
    "%matplotlib inline\n",
    "import matplotlib.pyplot as plt\n",
    "import seaborn as sns\n",
    "\n",
    "\n",
    "# to perform stats tests\n",
    "from scipy import stats\n",
    "\n",
    "# all sklearn lib's functs\n",
    "from sklearn.model_selection import train_test_split\n",
    "from sklearn.impute import SimpleImputer\n",
    "from sklearn.tree import DecisionTreeClassifier, plot_tree, export_text\n",
    "from sklearn.tree import export_graphviz\n",
    "from sklearn.ensemble import RandomForestClassifier\n",
    "from sklearn.neighbors import KNeighborsClassifier\n",
    "from sklearn.linear_model import LogisticRegression\n",
    "from sklearn.metrics import classification_report\n",
    "from sklearn.metrics import confusion_matrix, plot_confusion_matrix\n",
    "from sklearn.metrics import precision_recall_fscore_support\n",
    "\n",
    "\n",
    "\n",
    "#import all functions created in acquire , prepare & explore\n",
    "\n",
    "import acquire\n",
    "import model\n",
    "import explore\n",
    "\n",
    "# ignore warnings\n",
    "\n",
    "import warnings\n",
    "warnings.filterwarnings(\"ignore\")"
   ]
  },
  {
   "cell_type": "code",
   "execution_count": null,
   "id": "3ae51fe7",
   "metadata": {},
   "outputs": [],
   "source": []
  },
  {
   "cell_type": "code",
   "execution_count": 2,
   "id": "195cef77",
   "metadata": {},
   "outputs": [],
   "source": [
    "#Read TELCO data from MySQL using the get_telco_data() function in acquire.py"
   ]
  },
  {
   "cell_type": "code",
   "execution_count": 3,
   "id": "163346c1",
   "metadata": {
    "scrolled": true
   },
   "outputs": [
    {
     "data": {
      "text/html": [
       "<div>\n",
       "<style scoped>\n",
       "    .dataframe tbody tr th:only-of-type {\n",
       "        vertical-align: middle;\n",
       "    }\n",
       "\n",
       "    .dataframe tbody tr th {\n",
       "        vertical-align: top;\n",
       "    }\n",
       "\n",
       "    .dataframe thead th {\n",
       "        text-align: right;\n",
       "    }\n",
       "</style>\n",
       "<table border=\"1\" class=\"dataframe\">\n",
       "  <thead>\n",
       "    <tr style=\"text-align: right;\">\n",
       "      <th></th>\n",
       "      <th>payment_type_id</th>\n",
       "      <th>internet_service_type_id</th>\n",
       "      <th>contract_type_id</th>\n",
       "      <th>customer_id</th>\n",
       "      <th>gender</th>\n",
       "      <th>senior_citizen</th>\n",
       "      <th>partner</th>\n",
       "      <th>dependents</th>\n",
       "      <th>tenure</th>\n",
       "      <th>phone_service</th>\n",
       "      <th>...</th>\n",
       "      <th>tech_support</th>\n",
       "      <th>streaming_tv</th>\n",
       "      <th>streaming_movies</th>\n",
       "      <th>paperless_billing</th>\n",
       "      <th>monthly_charges</th>\n",
       "      <th>total_charges</th>\n",
       "      <th>churn</th>\n",
       "      <th>contract_type</th>\n",
       "      <th>internet_service_type</th>\n",
       "      <th>payment_type</th>\n",
       "    </tr>\n",
       "  </thead>\n",
       "  <tbody>\n",
       "    <tr>\n",
       "      <th>0</th>\n",
       "      <td>2</td>\n",
       "      <td>1</td>\n",
       "      <td>2</td>\n",
       "      <td>0002-ORFBO</td>\n",
       "      <td>Female</td>\n",
       "      <td>0</td>\n",
       "      <td>Yes</td>\n",
       "      <td>Yes</td>\n",
       "      <td>9</td>\n",
       "      <td>Yes</td>\n",
       "      <td>...</td>\n",
       "      <td>Yes</td>\n",
       "      <td>Yes</td>\n",
       "      <td>No</td>\n",
       "      <td>Yes</td>\n",
       "      <td>65.6</td>\n",
       "      <td>593.3</td>\n",
       "      <td>No</td>\n",
       "      <td>One year</td>\n",
       "      <td>DSL</td>\n",
       "      <td>Mailed check</td>\n",
       "    </tr>\n",
       "    <tr>\n",
       "      <th>1</th>\n",
       "      <td>2</td>\n",
       "      <td>1</td>\n",
       "      <td>1</td>\n",
       "      <td>0003-MKNFE</td>\n",
       "      <td>Male</td>\n",
       "      <td>0</td>\n",
       "      <td>No</td>\n",
       "      <td>No</td>\n",
       "      <td>9</td>\n",
       "      <td>Yes</td>\n",
       "      <td>...</td>\n",
       "      <td>No</td>\n",
       "      <td>No</td>\n",
       "      <td>Yes</td>\n",
       "      <td>No</td>\n",
       "      <td>59.9</td>\n",
       "      <td>542.4</td>\n",
       "      <td>No</td>\n",
       "      <td>Month-to-month</td>\n",
       "      <td>DSL</td>\n",
       "      <td>Mailed check</td>\n",
       "    </tr>\n",
       "    <tr>\n",
       "      <th>2</th>\n",
       "      <td>1</td>\n",
       "      <td>2</td>\n",
       "      <td>1</td>\n",
       "      <td>0004-TLHLJ</td>\n",
       "      <td>Male</td>\n",
       "      <td>0</td>\n",
       "      <td>No</td>\n",
       "      <td>No</td>\n",
       "      <td>4</td>\n",
       "      <td>Yes</td>\n",
       "      <td>...</td>\n",
       "      <td>No</td>\n",
       "      <td>No</td>\n",
       "      <td>No</td>\n",
       "      <td>Yes</td>\n",
       "      <td>73.9</td>\n",
       "      <td>280.85</td>\n",
       "      <td>Yes</td>\n",
       "      <td>Month-to-month</td>\n",
       "      <td>Fiber optic</td>\n",
       "      <td>Electronic check</td>\n",
       "    </tr>\n",
       "    <tr>\n",
       "      <th>3</th>\n",
       "      <td>1</td>\n",
       "      <td>2</td>\n",
       "      <td>1</td>\n",
       "      <td>0011-IGKFF</td>\n",
       "      <td>Male</td>\n",
       "      <td>1</td>\n",
       "      <td>Yes</td>\n",
       "      <td>No</td>\n",
       "      <td>13</td>\n",
       "      <td>Yes</td>\n",
       "      <td>...</td>\n",
       "      <td>No</td>\n",
       "      <td>Yes</td>\n",
       "      <td>Yes</td>\n",
       "      <td>Yes</td>\n",
       "      <td>98.0</td>\n",
       "      <td>1237.85</td>\n",
       "      <td>Yes</td>\n",
       "      <td>Month-to-month</td>\n",
       "      <td>Fiber optic</td>\n",
       "      <td>Electronic check</td>\n",
       "    </tr>\n",
       "    <tr>\n",
       "      <th>4</th>\n",
       "      <td>2</td>\n",
       "      <td>2</td>\n",
       "      <td>1</td>\n",
       "      <td>0013-EXCHZ</td>\n",
       "      <td>Female</td>\n",
       "      <td>1</td>\n",
       "      <td>Yes</td>\n",
       "      <td>No</td>\n",
       "      <td>3</td>\n",
       "      <td>Yes</td>\n",
       "      <td>...</td>\n",
       "      <td>Yes</td>\n",
       "      <td>Yes</td>\n",
       "      <td>No</td>\n",
       "      <td>Yes</td>\n",
       "      <td>83.9</td>\n",
       "      <td>267.4</td>\n",
       "      <td>Yes</td>\n",
       "      <td>Month-to-month</td>\n",
       "      <td>Fiber optic</td>\n",
       "      <td>Mailed check</td>\n",
       "    </tr>\n",
       "  </tbody>\n",
       "</table>\n",
       "<p>5 rows × 24 columns</p>\n",
       "</div>"
      ],
      "text/plain": [
       "   payment_type_id  internet_service_type_id  contract_type_id customer_id  \\\n",
       "0                2                         1                 2  0002-ORFBO   \n",
       "1                2                         1                 1  0003-MKNFE   \n",
       "2                1                         2                 1  0004-TLHLJ   \n",
       "3                1                         2                 1  0011-IGKFF   \n",
       "4                2                         2                 1  0013-EXCHZ   \n",
       "\n",
       "   gender  senior_citizen partner dependents  tenure phone_service  ...  \\\n",
       "0  Female               0     Yes        Yes       9           Yes  ...   \n",
       "1    Male               0      No         No       9           Yes  ...   \n",
       "2    Male               0      No         No       4           Yes  ...   \n",
       "3    Male               1     Yes         No      13           Yes  ...   \n",
       "4  Female               1     Yes         No       3           Yes  ...   \n",
       "\n",
       "  tech_support streaming_tv streaming_movies paperless_billing  \\\n",
       "0          Yes          Yes               No               Yes   \n",
       "1           No           No              Yes                No   \n",
       "2           No           No               No               Yes   \n",
       "3           No          Yes              Yes               Yes   \n",
       "4          Yes          Yes               No               Yes   \n",
       "\n",
       "  monthly_charges total_charges churn   contract_type  internet_service_type  \\\n",
       "0            65.6         593.3    No        One year                    DSL   \n",
       "1            59.9         542.4    No  Month-to-month                    DSL   \n",
       "2            73.9        280.85   Yes  Month-to-month            Fiber optic   \n",
       "3            98.0       1237.85   Yes  Month-to-month            Fiber optic   \n",
       "4            83.9         267.4   Yes  Month-to-month            Fiber optic   \n",
       "\n",
       "       payment_type  \n",
       "0      Mailed check  \n",
       "1      Mailed check  \n",
       "2  Electronic check  \n",
       "3  Electronic check  \n",
       "4      Mailed check  \n",
       "\n",
       "[5 rows x 24 columns]"
      ]
     },
     "execution_count": 3,
     "metadata": {},
     "output_type": "execute_result"
    }
   ],
   "source": [
    "# read TELCO data from sql\n",
    "df = acquire.get_telco_data()\n",
    "\n",
    "df.head()"
   ]
  },
  {
   "cell_type": "code",
   "execution_count": 4,
   "id": "3dcb7fcf",
   "metadata": {},
   "outputs": [],
   "source": [
    "# initial data summary and investigation"
   ]
  },
  {
   "cell_type": "code",
   "execution_count": 5,
   "id": "e293b1be",
   "metadata": {
    "scrolled": false
   },
   "outputs": [
    {
     "name": "stdout",
     "output_type": "stream",
     "text": [
      "<class 'pandas.core.frame.DataFrame'>\n",
      "Int64Index: 7043 entries, 0 to 7042\n",
      "Data columns (total 24 columns):\n",
      " #   Column                    Non-Null Count  Dtype  \n",
      "---  ------                    --------------  -----  \n",
      " 0   payment_type_id           7043 non-null   int64  \n",
      " 1   internet_service_type_id  7043 non-null   int64  \n",
      " 2   contract_type_id          7043 non-null   int64  \n",
      " 3   customer_id               7043 non-null   object \n",
      " 4   gender                    7043 non-null   object \n",
      " 5   senior_citizen            7043 non-null   int64  \n",
      " 6   partner                   7043 non-null   object \n",
      " 7   dependents                7043 non-null   object \n",
      " 8   tenure                    7043 non-null   int64  \n",
      " 9   phone_service             7043 non-null   object \n",
      " 10  multiple_lines            7043 non-null   object \n",
      " 11  online_security           7043 non-null   object \n",
      " 12  online_backup             7043 non-null   object \n",
      " 13  device_protection         7043 non-null   object \n",
      " 14  tech_support              7043 non-null   object \n",
      " 15  streaming_tv              7043 non-null   object \n",
      " 16  streaming_movies          7043 non-null   object \n",
      " 17  paperless_billing         7043 non-null   object \n",
      " 18  monthly_charges           7043 non-null   float64\n",
      " 19  total_charges             7043 non-null   object \n",
      " 20  churn                     7043 non-null   object \n",
      " 21  contract_type             7043 non-null   object \n",
      " 22  internet_service_type     7043 non-null   object \n",
      " 23  payment_type              7043 non-null   object \n",
      "dtypes: float64(1), int64(5), object(18)\n",
      "memory usage: 1.3+ MB\n"
     ]
    }
   ],
   "source": [
    "df.info()"
   ]
  },
  {
   "cell_type": "code",
   "execution_count": 6,
   "id": "7cd730f7",
   "metadata": {},
   "outputs": [],
   "source": [
    "# initial thoughts,columns=['payment_type_id', 'internet_service_type_id', 'contract_type_id', 'customer_id']\n",
    "# could be redundant.\n",
    "# total charges looks to be an object, probably isnt right.\n",
    "# binary categoricals can be converted into numerical 1 or 0"
   ]
  },
  {
   "cell_type": "code",
   "execution_count": 7,
   "id": "b25fd622",
   "metadata": {},
   "outputs": [
    {
     "data": {
      "text/html": [
       "<div>\n",
       "<style scoped>\n",
       "    .dataframe tbody tr th:only-of-type {\n",
       "        vertical-align: middle;\n",
       "    }\n",
       "\n",
       "    .dataframe tbody tr th {\n",
       "        vertical-align: top;\n",
       "    }\n",
       "\n",
       "    .dataframe thead th {\n",
       "        text-align: right;\n",
       "    }\n",
       "</style>\n",
       "<table border=\"1\" class=\"dataframe\">\n",
       "  <thead>\n",
       "    <tr style=\"text-align: right;\">\n",
       "      <th></th>\n",
       "      <th>payment_type_id</th>\n",
       "      <th>internet_service_type_id</th>\n",
       "      <th>contract_type_id</th>\n",
       "      <th>senior_citizen</th>\n",
       "      <th>tenure</th>\n",
       "      <th>monthly_charges</th>\n",
       "    </tr>\n",
       "  </thead>\n",
       "  <tbody>\n",
       "    <tr>\n",
       "      <th>count</th>\n",
       "      <td>7043.000000</td>\n",
       "      <td>7043.000000</td>\n",
       "      <td>7043.000000</td>\n",
       "      <td>7043.000000</td>\n",
       "      <td>7043.000000</td>\n",
       "      <td>7043.000000</td>\n",
       "    </tr>\n",
       "    <tr>\n",
       "      <th>mean</th>\n",
       "      <td>2.315633</td>\n",
       "      <td>1.872923</td>\n",
       "      <td>1.690473</td>\n",
       "      <td>0.162147</td>\n",
       "      <td>32.371149</td>\n",
       "      <td>64.761692</td>\n",
       "    </tr>\n",
       "    <tr>\n",
       "      <th>std</th>\n",
       "      <td>1.148907</td>\n",
       "      <td>0.737796</td>\n",
       "      <td>0.833755</td>\n",
       "      <td>0.368612</td>\n",
       "      <td>24.559481</td>\n",
       "      <td>30.090047</td>\n",
       "    </tr>\n",
       "    <tr>\n",
       "      <th>min</th>\n",
       "      <td>1.000000</td>\n",
       "      <td>1.000000</td>\n",
       "      <td>1.000000</td>\n",
       "      <td>0.000000</td>\n",
       "      <td>0.000000</td>\n",
       "      <td>18.250000</td>\n",
       "    </tr>\n",
       "    <tr>\n",
       "      <th>25%</th>\n",
       "      <td>1.000000</td>\n",
       "      <td>1.000000</td>\n",
       "      <td>1.000000</td>\n",
       "      <td>0.000000</td>\n",
       "      <td>9.000000</td>\n",
       "      <td>35.500000</td>\n",
       "    </tr>\n",
       "    <tr>\n",
       "      <th>50%</th>\n",
       "      <td>2.000000</td>\n",
       "      <td>2.000000</td>\n",
       "      <td>1.000000</td>\n",
       "      <td>0.000000</td>\n",
       "      <td>29.000000</td>\n",
       "      <td>70.350000</td>\n",
       "    </tr>\n",
       "    <tr>\n",
       "      <th>75%</th>\n",
       "      <td>3.000000</td>\n",
       "      <td>2.000000</td>\n",
       "      <td>2.000000</td>\n",
       "      <td>0.000000</td>\n",
       "      <td>55.000000</td>\n",
       "      <td>89.850000</td>\n",
       "    </tr>\n",
       "    <tr>\n",
       "      <th>max</th>\n",
       "      <td>4.000000</td>\n",
       "      <td>3.000000</td>\n",
       "      <td>3.000000</td>\n",
       "      <td>1.000000</td>\n",
       "      <td>72.000000</td>\n",
       "      <td>118.750000</td>\n",
       "    </tr>\n",
       "  </tbody>\n",
       "</table>\n",
       "</div>"
      ],
      "text/plain": [
       "       payment_type_id  internet_service_type_id  contract_type_id  \\\n",
       "count      7043.000000               7043.000000       7043.000000   \n",
       "mean          2.315633                  1.872923          1.690473   \n",
       "std           1.148907                  0.737796          0.833755   \n",
       "min           1.000000                  1.000000          1.000000   \n",
       "25%           1.000000                  1.000000          1.000000   \n",
       "50%           2.000000                  2.000000          1.000000   \n",
       "75%           3.000000                  2.000000          2.000000   \n",
       "max           4.000000                  3.000000          3.000000   \n",
       "\n",
       "       senior_citizen       tenure  monthly_charges  \n",
       "count     7043.000000  7043.000000      7043.000000  \n",
       "mean         0.162147    32.371149        64.761692  \n",
       "std          0.368612    24.559481        30.090047  \n",
       "min          0.000000     0.000000        18.250000  \n",
       "25%          0.000000     9.000000        35.500000  \n",
       "50%          0.000000    29.000000        70.350000  \n",
       "75%          0.000000    55.000000        89.850000  \n",
       "max          1.000000    72.000000       118.750000  "
      ]
     },
     "execution_count": 7,
     "metadata": {},
     "output_type": "execute_result"
    }
   ],
   "source": [
    "df.describe()"
   ]
  },
  {
   "cell_type": "code",
   "execution_count": 8,
   "id": "17f496ab",
   "metadata": {},
   "outputs": [
    {
     "data": {
      "text/plain": [
       "1    2365\n",
       "2    1612\n",
       "3    1544\n",
       "4    1522\n",
       "Name: payment_type_id, dtype: int64"
      ]
     },
     "execution_count": 8,
     "metadata": {},
     "output_type": "execute_result"
    }
   ],
   "source": [
    "df.payment_type_id.value_counts()"
   ]
  },
  {
   "cell_type": "code",
   "execution_count": 9,
   "id": "2a06d716",
   "metadata": {
    "scrolled": true
   },
   "outputs": [
    {
     "data": {
      "text/plain": [
       "Electronic check             2365\n",
       "Mailed check                 1612\n",
       "Bank transfer (automatic)    1544\n",
       "Credit card (automatic)      1522\n",
       "Name: payment_type, dtype: int64"
      ]
     },
     "execution_count": 9,
     "metadata": {},
     "output_type": "execute_result"
    }
   ],
   "source": [
    "df.payment_type.value_counts()"
   ]
  },
  {
   "cell_type": "code",
   "execution_count": 10,
   "id": "d846af6f",
   "metadata": {},
   "outputs": [
    {
     "data": {
      "text/plain": [
       "2    3096\n",
       "1    2421\n",
       "3    1526\n",
       "Name: internet_service_type_id, dtype: int64"
      ]
     },
     "execution_count": 10,
     "metadata": {},
     "output_type": "execute_result"
    }
   ],
   "source": [
    "df.internet_service_type_id.value_counts()"
   ]
  },
  {
   "cell_type": "code",
   "execution_count": 11,
   "id": "54d7f449",
   "metadata": {
    "scrolled": true
   },
   "outputs": [
    {
     "data": {
      "text/plain": [
       "Fiber optic    3096\n",
       "DSL            2421\n",
       "None           1526\n",
       "Name: internet_service_type, dtype: int64"
      ]
     },
     "execution_count": 11,
     "metadata": {},
     "output_type": "execute_result"
    }
   ],
   "source": [
    "df.internet_service_type.value_counts()"
   ]
  },
  {
   "cell_type": "code",
   "execution_count": 12,
   "id": "c53d46c6",
   "metadata": {},
   "outputs": [
    {
     "data": {
      "text/plain": [
       "1    3875\n",
       "3    1695\n",
       "2    1473\n",
       "Name: contract_type_id, dtype: int64"
      ]
     },
     "execution_count": 12,
     "metadata": {},
     "output_type": "execute_result"
    }
   ],
   "source": [
    "df.contract_type_id.value_counts()"
   ]
  },
  {
   "cell_type": "code",
   "execution_count": 13,
   "id": "84d59f25",
   "metadata": {},
   "outputs": [
    {
     "data": {
      "text/plain": [
       "Month-to-month    3875\n",
       "Two year          1695\n",
       "One year          1473\n",
       "Name: contract_type, dtype: int64"
      ]
     },
     "execution_count": 13,
     "metadata": {},
     "output_type": "execute_result"
    }
   ],
   "source": [
    "df.contract_type.value_counts()"
   ]
  },
  {
   "cell_type": "code",
   "execution_count": 14,
   "id": "9f1ba8c7",
   "metadata": {},
   "outputs": [
    {
     "data": {
      "text/plain": [
       "0002-ORFBO    1\n",
       "6616-AALSR    1\n",
       "6625-UTXEW    1\n",
       "6625-IUTTT    1\n",
       "6625-FLENO    1\n",
       "             ..\n",
       "3352-RICWQ    1\n",
       "3352-ALMCK    1\n",
       "3351-NQLDI    1\n",
       "3351-NGXYI    1\n",
       "9995-HOTOH    1\n",
       "Name: customer_id, Length: 7043, dtype: int64"
      ]
     },
     "execution_count": 14,
     "metadata": {},
     "output_type": "execute_result"
    }
   ],
   "source": [
    "df.customer_id.value_counts()"
   ]
  },
  {
   "cell_type": "code",
   "execution_count": null,
   "id": "b0bd28b7",
   "metadata": {},
   "outputs": [],
   "source": []
  },
  {
   "cell_type": "markdown",
   "id": "0d9d6f0c",
   "metadata": {},
   "source": [
    "### Clean, Prep "
   ]
  },
  {
   "cell_type": "code",
   "execution_count": 15,
   "id": "e7bddc7c",
   "metadata": {},
   "outputs": [],
   "source": [
    "# Drop duplicate columns\n",
    "#payment type id, internet service type id, contract type id are all duplicates\n",
    "#customer id, for our purpuses, doesnt give us any additional information\n",
    "df.drop(columns=['payment_type_id', 'internet_service_type_id', 'contract_type_id', 'customer_id'], inplace=True)"
   ]
  },
  {
   "cell_type": "code",
   "execution_count": 16,
   "id": "1089aa6a",
   "metadata": {},
   "outputs": [
    {
     "data": {
      "text/plain": [
       "gender                   0\n",
       "senior_citizen           0\n",
       "partner                  0\n",
       "dependents               0\n",
       "tenure                   0\n",
       "phone_service            0\n",
       "multiple_lines           0\n",
       "online_security          0\n",
       "online_backup            0\n",
       "device_protection        0\n",
       "tech_support             0\n",
       "streaming_tv             0\n",
       "streaming_movies         0\n",
       "paperless_billing        0\n",
       "monthly_charges          0\n",
       "total_charges            0\n",
       "churn                    0\n",
       "contract_type            0\n",
       "internet_service_type    0\n",
       "payment_type             0\n",
       "dtype: int64"
      ]
     },
     "execution_count": 16,
     "metadata": {},
     "output_type": "execute_result"
    }
   ],
   "source": [
    "df.isna().sum()"
   ]
  },
  {
   "cell_type": "code",
   "execution_count": 17,
   "id": "3d13bc77",
   "metadata": {},
   "outputs": [],
   "source": [
    "# Drop null values stored as whitespace    \n",
    "df['total_charges'] = df['total_charges'].str.strip()\n",
    "df = df[df.total_charges != '']"
   ]
  },
  {
   "cell_type": "code",
   "execution_count": 18,
   "id": "f45ed808",
   "metadata": {},
   "outputs": [],
   "source": [
    "# Convert to correct datatype\n",
    "df['total_charges'] = df.total_charges.astype(float)"
   ]
  },
  {
   "cell_type": "code",
   "execution_count": 19,
   "id": "edefbe8d",
   "metadata": {},
   "outputs": [],
   "source": [
    " # Convert binary categorical variables to numeric\n",
    "df['gender_encoded'] = df.gender.map({'Female': 1, 'Male': 0})\n",
    "df['partner_encoded'] = df.partner.map({'Yes': 1, 'No': 0})\n",
    "df['dependents_encoded'] = df.dependents.map({'Yes': 1, 'No': 0})\n",
    "df['phone_service_encoded'] = df.phone_service.map({'Yes': 1, 'No': 0})\n",
    "df['paperless_billing_encoded'] = df.paperless_billing.map({'Yes': 1, 'No': 0})\n",
    "df['churn_encoded'] = df.churn.map({'Yes': 1, 'No': 0})"
   ]
  },
  {
   "cell_type": "code",
   "execution_count": null,
   "id": "372058dd",
   "metadata": {},
   "outputs": [],
   "source": [
    "# # Get dummies for non-binary categorical variables\n",
    "# #\n",
    "# dummy_df = pd.get_dummies(df[['multiple_lines', \\\n",
    "#                               'online_security', \\\n",
    "#                               'online_backup', \\\n",
    "#                               'device_protection', \\\n",
    "#                               'tech_support', \\\n",
    "#                               'streaming_tv', \\\n",
    "#                               'streaming_movies', \\\n",
    "#                               'contract_type', \\\n",
    "#                               'internet_service_type', \\\n",
    "#                               'payment_type']], dummy_na=False, \\\n",
    "#                               drop_first=True)"
   ]
  },
  {
   "cell_type": "code",
   "execution_count": null,
   "id": "cfdd7d8e",
   "metadata": {},
   "outputs": [],
   "source": [
    " # Concatenate dummy dataframe to original \n",
    "df = pd.concat([df, dummy_df], axis=1)"
   ]
  },
  {
   "cell_type": "code",
   "execution_count": null,
   "id": "607f1704",
   "metadata": {},
   "outputs": [],
   "source": [
    "# Drop unnecessary columns\n",
    "df.drop(columns=['gender','partner','dependents','phone_service', \\\n",
    "                     'multiple_lines','online_security','online_backup', \\\n",
    "                     'device_protection','tech_support','streaming_tv', \\\n",
    "                     'streaming_movies','paperless_billing'], inplace=True)"
   ]
  },
  {
   "cell_type": "code",
   "execution_count": null,
   "id": "0716e0fb",
   "metadata": {},
   "outputs": [],
   "source": [
    "# #combine all to a function and add to prepare.py\n",
    "# def prep_telco_data(df):\n",
    "#     df.drop(columns=['payment_type_id', 'internet_service_type_id', 'contract_type_id', 'customer_id'], inplace=True)\n",
    "#     df['total_charges'] = df['total_charges'].str.strip()\n",
    "#     df = df[df.total_charges != '']\n",
    "#     df['total_charges'] = df.total_charges.astype(float)\n",
    "#     df['gender_encoded'] = df.gender.map({'Female': 1, 'Male': 0})\n",
    "#     df['partner_encoded'] = df.partner.map({'Yes': 1, 'No': 0})\n",
    "#     df['dependents_encoded'] = df.dependents.map({'Yes': 1, 'No': 0})\n",
    "#     df['phone_service_encoded'] = df.phone_service.map({'Yes': 1, 'No': 0})\n",
    "#     df['paperless_billing_encoded'] = df.paperless_billing.map({'Yes': 1, 'No': 0})\n",
    "#     df['churn_encoded'] = df.churn.replace({'Yes': 1, 'No': 0})\n",
    "#     dummy_df = pd.get_dummies(df[['multiple_lines', \\\n",
    "#                               'online_security', \\\n",
    "#                               'online_backup', \\\n",
    "#                               'device_protection', \\\n",
    "#                               'tech_support', \\\n",
    "#                               'streaming_tv', \\\n",
    "#                               'streaming_movies', \\\n",
    "#                               'contract_type', \\\n",
    "#                               'internet_service_type', \\\n",
    "#                               'payment_type']], dummy_na=False, \\\n",
    "#                               drop_first=True)\n",
    "#     df = pd.concat([df, dummy_df], axis=1)\n",
    "#     df.drop(columns=['gender','partner','dependents','phone_service', \\\n",
    "#                      'multiple_lines','online_security','online_backup', \\\n",
    "#                      'device_protection','tech_support','streaming_tv', \\\n",
    "#                      'streaming_movies','paperless_billing'], inplace=True)\n",
    "#     return df"
   ]
  },
  {
   "cell_type": "code",
   "execution_count": null,
   "id": "e98323d7",
   "metadata": {},
   "outputs": [],
   "source": [
    "# df = prep_telco_data(df)"
   ]
  },
  {
   "cell_type": "code",
   "execution_count": 21,
   "id": "89405a63",
   "metadata": {},
   "outputs": [
    {
     "data": {
      "text/html": [
       "<div>\n",
       "<style scoped>\n",
       "    .dataframe tbody tr th:only-of-type {\n",
       "        vertical-align: middle;\n",
       "    }\n",
       "\n",
       "    .dataframe tbody tr th {\n",
       "        vertical-align: top;\n",
       "    }\n",
       "\n",
       "    .dataframe thead th {\n",
       "        text-align: right;\n",
       "    }\n",
       "</style>\n",
       "<table border=\"1\" class=\"dataframe\">\n",
       "  <thead>\n",
       "    <tr style=\"text-align: right;\">\n",
       "      <th></th>\n",
       "      <th>gender</th>\n",
       "      <th>senior_citizen</th>\n",
       "      <th>partner</th>\n",
       "      <th>dependents</th>\n",
       "      <th>tenure</th>\n",
       "      <th>phone_service</th>\n",
       "      <th>multiple_lines</th>\n",
       "      <th>online_security</th>\n",
       "      <th>online_backup</th>\n",
       "      <th>device_protection</th>\n",
       "      <th>...</th>\n",
       "      <th>churn</th>\n",
       "      <th>contract_type</th>\n",
       "      <th>internet_service_type</th>\n",
       "      <th>payment_type</th>\n",
       "      <th>gender_encoded</th>\n",
       "      <th>partner_encoded</th>\n",
       "      <th>dependents_encoded</th>\n",
       "      <th>phone_service_encoded</th>\n",
       "      <th>paperless_billing_encoded</th>\n",
       "      <th>churn_encoded</th>\n",
       "    </tr>\n",
       "  </thead>\n",
       "  <tbody>\n",
       "    <tr>\n",
       "      <th>0</th>\n",
       "      <td>Female</td>\n",
       "      <td>0</td>\n",
       "      <td>Yes</td>\n",
       "      <td>Yes</td>\n",
       "      <td>9</td>\n",
       "      <td>Yes</td>\n",
       "      <td>No</td>\n",
       "      <td>No</td>\n",
       "      <td>Yes</td>\n",
       "      <td>No</td>\n",
       "      <td>...</td>\n",
       "      <td>No</td>\n",
       "      <td>One year</td>\n",
       "      <td>DSL</td>\n",
       "      <td>Mailed check</td>\n",
       "      <td>1</td>\n",
       "      <td>1</td>\n",
       "      <td>1</td>\n",
       "      <td>1</td>\n",
       "      <td>1</td>\n",
       "      <td>0</td>\n",
       "    </tr>\n",
       "    <tr>\n",
       "      <th>1</th>\n",
       "      <td>Male</td>\n",
       "      <td>0</td>\n",
       "      <td>No</td>\n",
       "      <td>No</td>\n",
       "      <td>9</td>\n",
       "      <td>Yes</td>\n",
       "      <td>Yes</td>\n",
       "      <td>No</td>\n",
       "      <td>No</td>\n",
       "      <td>No</td>\n",
       "      <td>...</td>\n",
       "      <td>No</td>\n",
       "      <td>Month-to-month</td>\n",
       "      <td>DSL</td>\n",
       "      <td>Mailed check</td>\n",
       "      <td>0</td>\n",
       "      <td>0</td>\n",
       "      <td>0</td>\n",
       "      <td>1</td>\n",
       "      <td>0</td>\n",
       "      <td>0</td>\n",
       "    </tr>\n",
       "    <tr>\n",
       "      <th>2</th>\n",
       "      <td>Male</td>\n",
       "      <td>0</td>\n",
       "      <td>No</td>\n",
       "      <td>No</td>\n",
       "      <td>4</td>\n",
       "      <td>Yes</td>\n",
       "      <td>No</td>\n",
       "      <td>No</td>\n",
       "      <td>No</td>\n",
       "      <td>Yes</td>\n",
       "      <td>...</td>\n",
       "      <td>Yes</td>\n",
       "      <td>Month-to-month</td>\n",
       "      <td>Fiber optic</td>\n",
       "      <td>Electronic check</td>\n",
       "      <td>0</td>\n",
       "      <td>0</td>\n",
       "      <td>0</td>\n",
       "      <td>1</td>\n",
       "      <td>1</td>\n",
       "      <td>1</td>\n",
       "    </tr>\n",
       "    <tr>\n",
       "      <th>3</th>\n",
       "      <td>Male</td>\n",
       "      <td>1</td>\n",
       "      <td>Yes</td>\n",
       "      <td>No</td>\n",
       "      <td>13</td>\n",
       "      <td>Yes</td>\n",
       "      <td>No</td>\n",
       "      <td>No</td>\n",
       "      <td>Yes</td>\n",
       "      <td>Yes</td>\n",
       "      <td>...</td>\n",
       "      <td>Yes</td>\n",
       "      <td>Month-to-month</td>\n",
       "      <td>Fiber optic</td>\n",
       "      <td>Electronic check</td>\n",
       "      <td>0</td>\n",
       "      <td>1</td>\n",
       "      <td>0</td>\n",
       "      <td>1</td>\n",
       "      <td>1</td>\n",
       "      <td>1</td>\n",
       "    </tr>\n",
       "    <tr>\n",
       "      <th>4</th>\n",
       "      <td>Female</td>\n",
       "      <td>1</td>\n",
       "      <td>Yes</td>\n",
       "      <td>No</td>\n",
       "      <td>3</td>\n",
       "      <td>Yes</td>\n",
       "      <td>No</td>\n",
       "      <td>No</td>\n",
       "      <td>No</td>\n",
       "      <td>No</td>\n",
       "      <td>...</td>\n",
       "      <td>Yes</td>\n",
       "      <td>Month-to-month</td>\n",
       "      <td>Fiber optic</td>\n",
       "      <td>Mailed check</td>\n",
       "      <td>1</td>\n",
       "      <td>1</td>\n",
       "      <td>0</td>\n",
       "      <td>1</td>\n",
       "      <td>1</td>\n",
       "      <td>1</td>\n",
       "    </tr>\n",
       "  </tbody>\n",
       "</table>\n",
       "<p>5 rows × 26 columns</p>\n",
       "</div>"
      ],
      "text/plain": [
       "   gender  senior_citizen partner dependents  tenure phone_service  \\\n",
       "0  Female               0     Yes        Yes       9           Yes   \n",
       "1    Male               0      No         No       9           Yes   \n",
       "2    Male               0      No         No       4           Yes   \n",
       "3    Male               1     Yes         No      13           Yes   \n",
       "4  Female               1     Yes         No       3           Yes   \n",
       "\n",
       "  multiple_lines online_security online_backup device_protection  ... churn  \\\n",
       "0             No              No           Yes                No  ...    No   \n",
       "1            Yes              No            No                No  ...    No   \n",
       "2             No              No            No               Yes  ...   Yes   \n",
       "3             No              No           Yes               Yes  ...   Yes   \n",
       "4             No              No            No                No  ...   Yes   \n",
       "\n",
       "    contract_type internet_service_type      payment_type  gender_encoded  \\\n",
       "0        One year                   DSL      Mailed check               1   \n",
       "1  Month-to-month                   DSL      Mailed check               0   \n",
       "2  Month-to-month           Fiber optic  Electronic check               0   \n",
       "3  Month-to-month           Fiber optic  Electronic check               0   \n",
       "4  Month-to-month           Fiber optic      Mailed check               1   \n",
       "\n",
       "   partner_encoded dependents_encoded phone_service_encoded  \\\n",
       "0                1                  1                     1   \n",
       "1                0                  0                     1   \n",
       "2                0                  0                     1   \n",
       "3                1                  0                     1   \n",
       "4                1                  0                     1   \n",
       "\n",
       "  paperless_billing_encoded churn_encoded  \n",
       "0                         1             0  \n",
       "1                         0             0  \n",
       "2                         1             1  \n",
       "3                         1             1  \n",
       "4                         1             1  \n",
       "\n",
       "[5 rows x 26 columns]"
      ]
     },
     "execution_count": 21,
     "metadata": {},
     "output_type": "execute_result"
    }
   ],
   "source": [
    "df.head()"
   ]
  },
  {
   "cell_type": "code",
   "execution_count": 22,
   "id": "bd8ba383",
   "metadata": {
    "scrolled": true
   },
   "outputs": [
    {
     "name": "stdout",
     "output_type": "stream",
     "text": [
      "<class 'pandas.core.frame.DataFrame'>\n",
      "Int64Index: 7032 entries, 0 to 7042\n",
      "Data columns (total 26 columns):\n",
      " #   Column                     Non-Null Count  Dtype  \n",
      "---  ------                     --------------  -----  \n",
      " 0   gender                     7032 non-null   object \n",
      " 1   senior_citizen             7032 non-null   int64  \n",
      " 2   partner                    7032 non-null   object \n",
      " 3   dependents                 7032 non-null   object \n",
      " 4   tenure                     7032 non-null   int64  \n",
      " 5   phone_service              7032 non-null   object \n",
      " 6   multiple_lines             7032 non-null   object \n",
      " 7   online_security            7032 non-null   object \n",
      " 8   online_backup              7032 non-null   object \n",
      " 9   device_protection          7032 non-null   object \n",
      " 10  tech_support               7032 non-null   object \n",
      " 11  streaming_tv               7032 non-null   object \n",
      " 12  streaming_movies           7032 non-null   object \n",
      " 13  paperless_billing          7032 non-null   object \n",
      " 14  monthly_charges            7032 non-null   float64\n",
      " 15  total_charges              7032 non-null   float64\n",
      " 16  churn                      7032 non-null   object \n",
      " 17  contract_type              7032 non-null   object \n",
      " 18  internet_service_type      7032 non-null   object \n",
      " 19  payment_type               7032 non-null   object \n",
      " 20  gender_encoded             7032 non-null   int64  \n",
      " 21  partner_encoded            7032 non-null   int64  \n",
      " 22  dependents_encoded         7032 non-null   int64  \n",
      " 23  phone_service_encoded      7032 non-null   int64  \n",
      " 24  paperless_billing_encoded  7032 non-null   int64  \n",
      " 25  churn_encoded              7032 non-null   int64  \n",
      "dtypes: float64(2), int64(8), object(16)\n",
      "memory usage: 1.4+ MB\n"
     ]
    }
   ],
   "source": [
    "df.info()"
   ]
  },
  {
   "cell_type": "markdown",
   "id": "31155304",
   "metadata": {},
   "source": [
    "### start to look at the data set to find anything that may jump out\n",
    "#### visualize the feature set with the target variable, can we find any recognizable patterns or relationships?"
   ]
  },
  {
   "cell_type": "code",
   "execution_count": 23,
   "id": "fe380c7e",
   "metadata": {},
   "outputs": [
    {
     "data": {
      "text/plain": [
       "0    5163\n",
       "1    1869\n",
       "Name: churn_encoded, dtype: int64"
      ]
     },
     "execution_count": 23,
     "metadata": {},
     "output_type": "execute_result"
    }
   ],
   "source": [
    "df.churn_encoded.value_counts()"
   ]
  },
  {
   "cell_type": "code",
   "execution_count": 24,
   "id": "b44f0c64",
   "metadata": {},
   "outputs": [
    {
     "data": {
      "text/plain": [
       "0.26578498293515357"
      ]
     },
     "execution_count": 24,
     "metadata": {},
     "output_type": "execute_result"
    }
   ],
   "source": [
    "#overall churn rate of df set\n",
    "df.churn_encoded.mean()"
   ]
  },
  {
   "cell_type": "code",
   "execution_count": 67,
   "id": "4ae9dece",
   "metadata": {},
   "outputs": [],
   "source": [
    "#define figure size\n",
    "sns.set(rc={\"figure.figsize\":(6, 6)}) #width=6, height=6"
   ]
  },
  {
   "cell_type": "code",
   "execution_count": 68,
   "id": "cbaa263b",
   "metadata": {
    "scrolled": false
   },
   "outputs": [
    {
     "data": {
      "text/plain": [
       "Text(0.5, 0, 'Churned')"
      ]
     },
     "execution_count": 68,
     "metadata": {},
     "output_type": "execute_result"
    },
    {
     "data": {
      "image/png": "[encoded data removed]",
      "text/plain": [
       "<Figure size 432x432 with 1 Axes>"
      ]
     },
     "metadata": {},
     "output_type": "display_data"
    }
   ],
   "source": [
    "df.churn_encoded.value_counts().sort_index().plot.bar()\n",
    "churn_rate = df.churn_encoded.mean()\n",
    "plt.title(f\"Overall Churn Rate: {churn_rate:.2%}\")\n",
    "plt.xlabel('Churned')"
   ]
  },
  {
   "cell_type": "markdown",
   "id": "06291377",
   "metadata": {},
   "source": [
    "Looks like the overall churn rate is 26.58%"
   ]
  },
  {
   "cell_type": "code",
   "execution_count": 69,
   "id": "e9d3cbac",
   "metadata": {
    "scrolled": false
   },
   "outputs": [
    {
     "data": {
      "text/plain": [
       "<AxesSubplot:xlabel='tenure', ylabel='monthly_charges'>"
      ]
     },
     "execution_count": 69,
     "metadata": {},
     "output_type": "execute_result"
    },
    {
     "data": {
      "image/png": "[encoded data removed]",
      "text/plain": [
       "<Figure size 432x432 with 1 Axes>"
      ]
     },
     "metadata": {},
     "output_type": "display_data"
    }
   ],
   "source": [
    "sns.scatterplot(x=\"tenure\", y=\"monthly_charges\", hue=\"churn_encoded\", data=df)"
   ]
  },
  {
   "cell_type": "markdown",
   "id": "f2119792",
   "metadata": {},
   "source": [
    "Looks to me that the majority of the churn happens when tenure is less than 20 months"
   ]
  },
  {
   "cell_type": "code",
   "execution_count": 70,
   "id": "4ee05b07",
   "metadata": {
    "scrolled": false
   },
   "outputs": [
    {
     "data": {
      "text/plain": [
       "<AxesSubplot:xlabel='churn', ylabel='count'>"
      ]
     },
     "execution_count": 70,
     "metadata": {},
     "output_type": "execute_result"
    },
    {
     "data": {
      "image/png": "[encoded data removed]",
      "text/plain": [
       "<Figure size 432x432 with 1 Axes>"
      ]
     },
     "metadata": {},
     "output_type": "display_data"
    }
   ],
   "source": [
    "sns.countplot(x=\"churn\", data=df, hue=\"gender_encoded\")"
   ]
  },
  {
   "cell_type": "markdown",
   "id": "041f194d",
   "metadata": {},
   "source": [
    "male and females seem to churn the same"
   ]
  },
  {
   "cell_type": "code",
   "execution_count": 71,
   "id": "ac194244",
   "metadata": {
    "scrolled": false
   },
   "outputs": [
    {
     "data": {
      "text/plain": [
       "<AxesSubplot:xlabel='churn', ylabel='count'>"
      ]
     },
     "execution_count": 71,
     "metadata": {},
     "output_type": "execute_result"
    },
    {
     "data": {
      "image/png": "[encoded data removed]",
      "text/plain": [
       "<Figure size 432x432 with 1 Axes>"
      ]
     },
     "metadata": {},
     "output_type": "display_data"
    }
   ],
   "source": [
    "sns.countplot(x=\"churn\", data=df, hue=\"partner_encoded\")"
   ]
  },
  {
   "cell_type": "markdown",
   "id": "6b1815d7",
   "metadata": {},
   "source": [
    "customers who have a partner churn less than single customers"
   ]
  },
  {
   "cell_type": "code",
   "execution_count": 88,
   "id": "68ee8e5c",
   "metadata": {},
   "outputs": [
    {
     "data": {
      "text/plain": [
       "<AxesSubplot:xlabel='churn', ylabel='count'>"
      ]
     },
     "execution_count": 88,
     "metadata": {},
     "output_type": "execute_result"
    },
    {
     "data": {
      "image/png": "[encoded data removed]",
      "text/plain": [
       "<Figure size 432x432 with 1 Axes>"
      ]
     },
     "metadata": {},
     "output_type": "display_data"
    }
   ],
   "source": [
    "sns.countplot(x=\"churn\", data=df, hue=\"dependents_encoded\")"
   ]
  },
  {
   "cell_type": "markdown",
   "id": "0f11697e",
   "metadata": {},
   "source": [
    "customers with dependents churn less than those without"
   ]
  },
  {
   "cell_type": "code",
   "execution_count": 73,
   "id": "21744f7a",
   "metadata": {
    "scrolled": false
   },
   "outputs": [
    {
     "data": {
      "text/plain": [
       "<AxesSubplot:xlabel='churn', ylabel='count'>"
      ]
     },
     "execution_count": 73,
     "metadata": {},
     "output_type": "execute_result"
    },
    {
     "data": {
      "image/png": "[encoded data removed]",
      "text/plain": [
       "<Figure size 432x432 with 1 Axes>"
      ]
     },
     "metadata": {},
     "output_type": "display_data"
    }
   ],
   "source": [
    "sns.countplot(x=\"churn\", data=df, hue=\"senior_citizen\")"
   ]
  },
  {
   "cell_type": "markdown",
   "id": "8a8dcbe4",
   "metadata": {},
   "source": [
    "senior citizen churn rate doesnt show much"
   ]
  },
  {
   "cell_type": "code",
   "execution_count": 74,
   "id": "bb988960",
   "metadata": {},
   "outputs": [
    {
     "data": {
      "text/plain": [
       "<AxesSubplot:xlabel='churn', ylabel='count'>"
      ]
     },
     "execution_count": 74,
     "metadata": {},
     "output_type": "execute_result"
    },
    {
     "data": {
      "image/png": "[encoded data removed]",
      "text/plain": [
       "<Figure size 432x432 with 1 Axes>"
      ]
     },
     "metadata": {},
     "output_type": "display_data"
    }
   ],
   "source": [
    "sns.countplot(x=\"churn\", data=df, hue=\"phone_service_encoded\")"
   ]
  },
  {
   "cell_type": "markdown",
   "id": "cf528694",
   "metadata": {},
   "source": [
    "phone service"
   ]
  },
  {
   "cell_type": "code",
   "execution_count": 75,
   "id": "5aa78d09",
   "metadata": {
    "scrolled": false
   },
   "outputs": [
    {
     "data": {
      "text/plain": [
       "<AxesSubplot:xlabel='churn', ylabel='count'>"
      ]
     },
     "execution_count": 75,
     "metadata": {},
     "output_type": "execute_result"
    },
    {
     "data": {
      "image/png": "[encoded data removed]",
      "text/plain": [
       "<Figure size 432x432 with 1 Axes>"
      ]
     },
     "metadata": {},
     "output_type": "display_data"
    }
   ],
   "source": [
    "sns.countplot(x=\"churn\", data=df, hue=\"paperless_billing_encoded\")"
   ]
  },
  {
   "cell_type": "markdown",
   "id": "25c2ba89",
   "metadata": {},
   "source": [
    "Paperless billing accounts for the majority of churned customers"
   ]
  },
  {
   "cell_type": "code",
   "execution_count": 77,
   "id": "a74b34cb",
   "metadata": {},
   "outputs": [
    {
     "data": {
      "text/plain": [
       "['multiple_lines',\n",
       " 'online_security',\n",
       " 'online_backup',\n",
       " 'device_protection',\n",
       " 'tech_support',\n",
       " 'streaming_tv',\n",
       " 'streaming_movies',\n",
       " 'contract_type',\n",
       " 'internet_service_type',\n",
       " 'payment_type']"
      ]
     },
     "execution_count": 77,
     "metadata": {},
     "output_type": "execute_result"
    }
   ],
   "source": [
    "['multiple_lines','online_security','online_backup','device_protection','tech_support',\n",
    " 'streaming_tv','streaming_movies','contract_type','internet_service_type','payment_type']"
   ]
  },
  {
   "cell_type": "code",
   "execution_count": 78,
   "id": "d5112e3b",
   "metadata": {
    "scrolled": false
   },
   "outputs": [
    {
     "data": {
      "text/plain": [
       "<AxesSubplot:xlabel='churn', ylabel='count'>"
      ]
     },
     "execution_count": 78,
     "metadata": {},
     "output_type": "execute_result"
    },
    {
     "data": {
      "image/png": "[encoded data removed]",
      "text/plain": [
       "<Figure size 432x432 with 1 Axes>"
      ]
     },
     "metadata": {},
     "output_type": "display_data"
    }
   ],
   "source": [
    "sns.countplot(x=\"churn\", data=df, hue=\"multiple_lines\")"
   ]
  },
  {
   "cell_type": "markdown",
   "id": "da6b46ba",
   "metadata": {},
   "source": [
    "no real impact from having multiple lines"
   ]
  },
  {
   "cell_type": "code",
   "execution_count": 89,
   "id": "4fd2ce06",
   "metadata": {
    "scrolled": false
   },
   "outputs": [
    {
     "data": {
      "text/plain": [
       "<AxesSubplot:xlabel='churn', ylabel='count'>"
      ]
     },
     "execution_count": 89,
     "metadata": {},
     "output_type": "execute_result"
    },
    {
     "data": {
      "image/png": "[encoded data removed]",
      "text/plain": [
       "<Figure size 432x432 with 1 Axes>"
      ]
     },
     "metadata": {},
     "output_type": "display_data"
    }
   ],
   "source": [
    "sns.countplot(x=\"churn\", data=df, hue=\"online_security\")"
   ]
  },
  {
   "cell_type": "markdown",
   "id": "27f08463",
   "metadata": {},
   "source": [
    "churned customers that didnt have online security were largest segment"
   ]
  },
  {
   "cell_type": "code",
   "execution_count": 80,
   "id": "47f739c1",
   "metadata": {
    "scrolled": true
   },
   "outputs": [
    {
     "data": {
      "text/plain": [
       "<AxesSubplot:xlabel='churn', ylabel='count'>"
      ]
     },
     "execution_count": 80,
     "metadata": {},
     "output_type": "execute_result"
    },
    {
     "data": {
      "image/png": "[encoded data removed]",
      "text/plain": [
       "<Figure size 432x432 with 1 Axes>"
      ]
     },
     "metadata": {},
     "output_type": "display_data"
    }
   ],
   "source": [
    "sns.countplot(x=\"churn\", data=df, hue=\"online_backup\")"
   ]
  },
  {
   "cell_type": "markdown",
   "id": "70c40c02",
   "metadata": {},
   "source": [
    "customers who didnt have online backup churned more often"
   ]
  },
  {
   "cell_type": "code",
   "execution_count": 81,
   "id": "824c2b35",
   "metadata": {
    "scrolled": true
   },
   "outputs": [
    {
     "data": {
      "text/plain": [
       "<AxesSubplot:xlabel='churn', ylabel='count'>"
      ]
     },
     "execution_count": 81,
     "metadata": {},
     "output_type": "execute_result"
    },
    {
     "data": {
      "image/png": "[encoded data removed]",
      "text/plain": [
       "<Figure size 432x432 with 1 Axes>"
      ]
     },
     "metadata": {},
     "output_type": "display_data"
    }
   ],
   "source": [
    "sns.countplot(x=\"churn\", data=df, hue=\"device_protection\")"
   ]
  },
  {
   "cell_type": "markdown",
   "id": "014cdef7",
   "metadata": {},
   "source": [
    "majority of churned customers didnt have device protection"
   ]
  },
  {
   "cell_type": "code",
   "execution_count": 82,
   "id": "c214cbc8",
   "metadata": {},
   "outputs": [
    {
     "data": {
      "text/plain": [
       "<AxesSubplot:xlabel='churn', ylabel='count'>"
      ]
     },
     "execution_count": 82,
     "metadata": {},
     "output_type": "execute_result"
    },
    {
     "data": {
      "image/png": "[encoded data removed]",
      "text/plain": [
       "<Figure size 432x432 with 1 Axes>"
      ]
     },
     "metadata": {},
     "output_type": "display_data"
    }
   ],
   "source": [
    "sns.countplot(x=\"churn\", data=df, hue=\"tech_support\")"
   ]
  },
  {
   "cell_type": "markdown",
   "id": "20998a0f",
   "metadata": {},
   "source": [
    "looks like there is a impact from customers having tech support or not"
   ]
  },
  {
   "cell_type": "code",
   "execution_count": 83,
   "id": "55a17b29",
   "metadata": {
    "scrolled": true
   },
   "outputs": [
    {
     "data": {
      "text/plain": [
       "<AxesSubplot:xlabel='churn', ylabel='count'>"
      ]
     },
     "execution_count": 83,
     "metadata": {},
     "output_type": "execute_result"
    },
    {
     "data": {
      "image/png": "[encoded data removed]",
      "text/plain": [
       "<Figure size 432x432 with 1 Axes>"
      ]
     },
     "metadata": {},
     "output_type": "display_data"
    }
   ],
   "source": [
    "sns.countplot(x=\"churn\", data=df, hue=\"streaming_tv\")"
   ]
  },
  {
   "cell_type": "markdown",
   "id": "53e75e5a",
   "metadata": {},
   "source": [
    "streaming tv doesnt look like much of an impact"
   ]
  },
  {
   "cell_type": "code",
   "execution_count": 84,
   "id": "1fb0ea82",
   "metadata": {
    "scrolled": true
   },
   "outputs": [
    {
     "data": {
      "text/plain": [
       "<AxesSubplot:xlabel='churn', ylabel='count'>"
      ]
     },
     "execution_count": 84,
     "metadata": {},
     "output_type": "execute_result"
    },
    {
     "data": {
      "image/png": "[encoded data removed]",
      "text/plain": [
       "<Figure size 432x432 with 1 Axes>"
      ]
     },
     "metadata": {},
     "output_type": "display_data"
    }
   ],
   "source": [
    "sns.countplot(x=\"churn\", data=df, hue=\"streaming_movies\")"
   ]
  },
  {
   "cell_type": "markdown",
   "id": "4fb629e4",
   "metadata": {},
   "source": [
    "streaming movies doesnt look like much of an impact"
   ]
  },
  {
   "cell_type": "code",
   "execution_count": 85,
   "id": "657518c2",
   "metadata": {
    "scrolled": true
   },
   "outputs": [
    {
     "data": {
      "text/plain": [
       "<AxesSubplot:xlabel='churn', ylabel='count'>"
      ]
     },
     "execution_count": 85,
     "metadata": {},
     "output_type": "execute_result"
    },
    {
     "data": {
      "image/png": "[encoded data removed]",
      "text/plain": [
       "<Figure size 432x432 with 1 Axes>"
      ]
     },
     "metadata": {},
     "output_type": "display_data"
    }
   ],
   "source": [
    "#electronic check has the highest rate of churn\n",
    "sns.countplot(x=\"churn\", data=df, hue=\"payment_type\")"
   ]
  },
  {
   "cell_type": "markdown",
   "id": "da7c2a55",
   "metadata": {},
   "source": [
    "this looks really interesting, huge difference in payment types for churners specifically electronic checks"
   ]
  },
  {
   "cell_type": "code",
   "execution_count": 86,
   "id": "9e8f6790",
   "metadata": {
    "scrolled": true
   },
   "outputs": [
    {
     "data": {
      "text/plain": [
       "<AxesSubplot:xlabel='churn', ylabel='count'>"
      ]
     },
     "execution_count": 86,
     "metadata": {},
     "output_type": "execute_result"
    },
    {
     "data": {
      "image/png": "[encoded data removed]",
      "text/plain": [
       "<Figure size 432x432 with 1 Axes>"
      ]
     },
     "metadata": {},
     "output_type": "display_data"
    }
   ],
   "source": [
    "#month to month has the highest rate of churn\n",
    "sns.countplot(x=\"churn\", data=df, hue=\"contract_type\")"
   ]
  },
  {
   "cell_type": "markdown",
   "id": "561fd5a2",
   "metadata": {},
   "source": [
    "another seemingly big one here, looks like the month to month customers are the big churners"
   ]
  },
  {
   "cell_type": "code",
   "execution_count": 87,
   "id": "717a246f",
   "metadata": {
    "scrolled": true
   },
   "outputs": [
    {
     "data": {
      "text/plain": [
       "<AxesSubplot:xlabel='churn', ylabel='count'>"
      ]
     },
     "execution_count": 87,
     "metadata": {},
     "output_type": "execute_result"
    },
    {
     "data": {
      "image/png": "[encoded data removed]",
      "text/plain": [
       "<Figure size 432x432 with 1 Axes>"
      ]
     },
     "metadata": {},
     "output_type": "display_data"
    }
   ],
   "source": [
    "#fiber optic has the highest rate of churn\n",
    "sns.countplot(x=\"churn\",  data=df, hue=\"internet_service_type\") "
   ]
  },
  {
   "cell_type": "markdown",
   "id": "1af55d3b",
   "metadata": {},
   "source": [
    "fiber customers seem to churn more than dsl and no "
   ]
  },
  {
   "cell_type": "markdown",
   "id": "fe9d4354",
   "metadata": {},
   "source": [
    "### from initial look, examine variables that show promise"
   ]
  },
  {
   "cell_type": "code",
   "execution_count": null,
   "id": "2e4244bd",
   "metadata": {},
   "outputs": [],
   "source": [
    "features = ['internet_service_type', 'contract_type', 'payment_type', 'senior_citizen']"
   ]
  },
  {
   "cell_type": "code",
   "execution_count": null,
   "id": "75e98497",
   "metadata": {},
   "outputs": [],
   "source": [
    "list(enumerate(features))"
   ]
  },
  {
   "cell_type": "code",
   "execution_count": null,
   "id": "e6f3a545",
   "metadata": {},
   "outputs": [],
   "source": [
    "churn_rate = df.churn_encoded.mean()\n",
    "_, ax = plt.subplots(nrows=1, ncols=4, figsize=(28, 8), sharey=True)\n",
    "for i, feature in enumerate(features):\n",
    "    sns.barplot(feature, 'churn_encoded', data=df, ax=ax[i], alpha=0.5)\n",
    "    ax[i].set_xlabel('')\n",
    "    ax[i].set_ylabel('Churn Rate')\n",
    "    ax[i].set_title(feature)\n",
    "    ax[i].axhline(churn_rate, ls='--', color='grey')"
   ]
  },
  {
   "cell_type": "code",
   "execution_count": null,
   "id": "6a63274f",
   "metadata": {
    "scrolled": true
   },
   "outputs": [],
   "source": [
    "# Catplot with kind=\"count\"\n",
    "sns.set_theme(style=\"whitegrid\")\n",
    "sns.catplot(x=\"churn_encoded\", y=\"contract_type\", data=df, kind=\"violin\")"
   ]
  },
  {
   "cell_type": "code",
   "execution_count": null,
   "id": "acdefb91",
   "metadata": {},
   "outputs": [],
   "source": [
    "#shows that there is a higher cost of service for fiber optic, high churn, my guess is those are month to month paid with echeck\n",
    "features = ['internet_service_type', 'contract_type', 'payment_type','senior_citizen']\n",
    "_, ax = plt.subplots(nrows=1, ncols=4, figsize=(20, 8))\n",
    "\n",
    "for i, feature in enumerate(features):\n",
    "    sns.violinplot(\n",
    "        feature,\n",
    "        \"monthly_charges\",\n",
    "        hue=\"churn_encoded\",\n",
    "        data=df,\n",
    "        split=True,\n",
    "        scale = 'count',\n",
    "        ax=ax[i],\n",
    "        \n",
    "    )"
   ]
  },
  {
   "cell_type": "code",
   "execution_count": 20,
   "id": "531ebe1b",
   "metadata": {},
   "outputs": [
    {
     "data": {
      "text/plain": [
       "<seaborn.axisgrid.FacetGrid at 0x1baa33509a0>"
      ]
     },
     "execution_count": 20,
     "metadata": {},
     "output_type": "execute_result"
    },
    {
     "data": {
      "image/png": "[encoded data removed]",
      "text/plain": [
       "<Figure size 412x360 with 1 Axes>"
      ]
     },
     "metadata": {
      "needs_background": "light"
     },
     "output_type": "display_data"
    }
   ],
   "source": [
    "# Using a Catplot, month to month with charges over 60, high churn\n",
    "sns.catplot(x=\"contract_type\", y=\"monthly_charges\", data=df, hue=\"churn\")"
   ]
  },
  {
   "cell_type": "code",
   "execution_count": null,
   "id": "9a779cb6",
   "metadata": {},
   "outputs": [],
   "source": [
    "#electronic check with charges over 60, high churn\n",
    "sns.catplot(x=\"payment_type\", y=\"monthly_charges\", data=df, hue=\"churn\")"
   ]
  },
  {
   "cell_type": "code",
   "execution_count": null,
   "id": "e8d5ef7b",
   "metadata": {},
   "outputs": [],
   "source": [
    "# Using a Catplot\n",
    "sns.catplot(x=\"internet_service_type\", y=\"monthly_charges\", data=df, hue=\"churn\")"
   ]
  },
  {
   "cell_type": "code",
   "execution_count": null,
   "id": "c423c43b",
   "metadata": {
    "scrolled": true
   },
   "outputs": [],
   "source": [
    "#churn is happening sub 10 month tenure, meaning month to month contract has highest churn\n",
    "sns.relplot(x=\"tenure\", y=\"monthly_charges\", hue=\"churn\", data=df, height=6, aspect=1)\n",
    "plt.xlim(0, 73)"
   ]
  },
  {
   "cell_type": "code",
   "execution_count": null,
   "id": "0e58232e",
   "metadata": {
    "scrolled": true
   },
   "outputs": [],
   "source": [
    "#low tenure, high monthly cost more churn\n",
    "sns.jointplot(\"tenure\", \"monthly_charges\", data=df, kind='hex')"
   ]
  },
  {
   "cell_type": "code",
   "execution_count": null,
   "id": "cc06acdc",
   "metadata": {},
   "outputs": [],
   "source": [
    "#electronic check customers make up 33.6% of customer base and churn at 15.2%\n",
    "pd.crosstab(df.churn, df.payment_type, margins=True, normalize=True)"
   ]
  },
  {
   "cell_type": "code",
   "execution_count": null,
   "id": "e6cb1ab7",
   "metadata": {},
   "outputs": [],
   "source": [
    "#MTM make up 55.1% of customer base and churn at 23.5%\n",
    "pd.crosstab(df.churn, df.contract_type, margins=True, normalize=True)"
   ]
  },
  {
   "cell_type": "code",
   "execution_count": null,
   "id": "13947028",
   "metadata": {
    "scrolled": true
   },
   "outputs": [],
   "source": [
    "#fiber optic customers make up 44.0% of customer base and churn at 18.4%\n",
    "pd.crosstab(df.churn, df.internet_service_type, margins=True, normalize=True)"
   ]
  },
  {
   "cell_type": "code",
   "execution_count": null,
   "id": "a1eccbef",
   "metadata": {},
   "outputs": [],
   "source": [
    "#senior citizens are 16.2% of customer base and churn at 41.7%\n",
    "pd.crosstab(df.churn, df.senior_citizen, margins=True, normalize=True)"
   ]
  },
  {
   "cell_type": "code",
   "execution_count": null,
   "id": "db82008d",
   "metadata": {},
   "outputs": [],
   "source": [
    "#Median tenure for churn customers is 10 months\n",
    "df[df.churn == 'Yes'].tenure.median()"
   ]
  },
  {
   "cell_type": "code",
   "execution_count": null,
   "id": "b1b8543d",
   "metadata": {
    "scrolled": false
   },
   "outputs": [],
   "source": [
    "#mean tenure, outliers towards the high end, go with median\n",
    "df[df.churn == 'Yes'].tenure.mean()"
   ]
  },
  {
   "cell_type": "code",
   "execution_count": null,
   "id": "14689986",
   "metadata": {},
   "outputs": [],
   "source": [
    "df[df.churn == 'Yes'].tenure.describe()"
   ]
  },
  {
   "cell_type": "code",
   "execution_count": null,
   "id": "0bfa1004",
   "metadata": {},
   "outputs": [],
   "source": [
    "df[df.churn == 'No'].tenure.describe()"
   ]
  },
  {
   "cell_type": "code",
   "execution_count": null,
   "id": "a72b367e",
   "metadata": {},
   "outputs": [],
   "source": [
    "df[df.internet_service_type == 'Fiber optic'].tenure.describe()"
   ]
  },
  {
   "cell_type": "code",
   "execution_count": null,
   "id": "df28c5b7",
   "metadata": {},
   "outputs": [],
   "source": [
    "sns.jointplot(\"tenure\", \"monthly_charges\", data=df[df.internet_service_type == 'Fiber optic'], kind='hex')"
   ]
  },
  {
   "cell_type": "code",
   "execution_count": null,
   "id": "60b07dad",
   "metadata": {},
   "outputs": [],
   "source": [
    "#churners pay 13.1$ more per month\n",
    "df[df.churn == 'Yes'].monthly_charges.describe()"
   ]
  },
  {
   "cell_type": "code",
   "execution_count": null,
   "id": "db6b2724",
   "metadata": {},
   "outputs": [],
   "source": [
    "df[df.churn == 'No'].monthly_charges.describe()"
   ]
  },
  {
   "cell_type": "code",
   "execution_count": null,
   "id": "98f9b541",
   "metadata": {},
   "outputs": [],
   "source": [
    "churners = df[df.churn == 'Yes']\n",
    "churners"
   ]
  },
  {
   "cell_type": "code",
   "execution_count": null,
   "id": "cd166def",
   "metadata": {},
   "outputs": [],
   "source": [
    "churners.internet_service_type == 'Fiber optic'"
   ]
  },
  {
   "cell_type": "code",
   "execution_count": null,
   "id": "2655ab12",
   "metadata": {},
   "outputs": [],
   "source": [
    "churners[churners.internet_service_type == 'Fiber optic'].tenure.median()"
   ]
  },
  {
   "cell_type": "code",
   "execution_count": null,
   "id": "43397cd8",
   "metadata": {},
   "outputs": [],
   "source": [
    "churners[churners.contract_type == 'Month-to-month'].tenure.median()"
   ]
  },
  {
   "cell_type": "code",
   "execution_count": null,
   "id": "30363099",
   "metadata": {},
   "outputs": [],
   "source": [
    "churners[churners.payment_type == 'Electronic check'].tenure.median()"
   ]
  },
  {
   "cell_type": "code",
   "execution_count": null,
   "id": "476a9c03",
   "metadata": {},
   "outputs": [],
   "source": [
    "df.monthly_charges.mean()"
   ]
  },
  {
   "cell_type": "code",
   "execution_count": null,
   "id": "139efdaa",
   "metadata": {},
   "outputs": [],
   "source": [
    "churners.monthly_charges.mean()"
   ]
  },
  {
   "cell_type": "code",
   "execution_count": null,
   "id": "c43563da",
   "metadata": {
    "scrolled": true
   },
   "outputs": [],
   "source": [
    "#Ho : Mean of monthly charges of churned month to month customers >= Mean of monthly charges of all customers\n",
    "#Ha : Mean of monthly charges of churned month to month customers < Mean of monthly charges of all customers\n",
    "# We fail to reject Ho\n",
    "churners[churners.contract_type == 'Month-to-month'].monthly_charges.mean()"
   ]
  },
  {
   "cell_type": "code",
   "execution_count": null,
   "id": "40822295",
   "metadata": {},
   "outputs": [],
   "source": [
    "alpha=.05\n",
    "churn_sample = churners[churners.contract_type == 'Month-to-month'].monthly_charges\n",
    "overall_mean = df.monthly_charges.mean()\n",
    "\n",
    "t, p = stats.ttest_1samp(churn_sample, overall_mean)\n",
    "\n",
    "print(t, p/2, alpha)"
   ]
  },
  {
   "cell_type": "code",
   "execution_count": null,
   "id": "71373bd6",
   "metadata": {},
   "outputs": [],
   "source": [
    "if p/2 < alpha:\n",
    "    print(\"We fail to reject Ho\")\n",
    "elif t > 0:\n",
    "    print(\"We fail to reject Ho\")\n",
    "else:\n",
    "    print(\"We reject Ho\")"
   ]
  },
  {
   "cell_type": "code",
   "execution_count": null,
   "id": "16018bb6",
   "metadata": {},
   "outputs": [],
   "source": [
    "#Ho : Mean of monthly charges of churned electronic check customers >= Mean of monthly charges of all customers\n",
    "#Ha : Mean of monthly charges of churned electronic customers < Mean of monthly charges of all customers\n",
    "# We fail to reject Ho\n",
    "churners[churners.payment_type == 'Electronic check'].monthly_charges.mean()"
   ]
  },
  {
   "cell_type": "code",
   "execution_count": null,
   "id": "1e440b6e",
   "metadata": {},
   "outputs": [],
   "source": [
    "alpha=.05\n",
    "churn_sample = churners[churners.payment_type == 'Electronic check'].monthly_charges\n",
    "overall_mean = df.monthly_charges.mean()\n",
    "\n",
    "t, p = stats.ttest_1samp(churn_sample, overall_mean)\n",
    "\n",
    "print(t, p/2, alpha)"
   ]
  },
  {
   "cell_type": "code",
   "execution_count": null,
   "id": "54459799",
   "metadata": {},
   "outputs": [],
   "source": [
    "if p/2 < alpha:\n",
    "    print(\"We fail to reject Ho\")\n",
    "elif t > 0:\n",
    "    print(\"We fail to reject Ho\")\n",
    "else:\n",
    "    print(\"We reject Ho\")"
   ]
  },
  {
   "cell_type": "code",
   "execution_count": null,
   "id": "b1a511db",
   "metadata": {},
   "outputs": [],
   "source": [
    "#Ho : Mean of monthly charges of churned fiber customers >= Mean of monthly charges of all customers\n",
    "#Ha : Mean of monthly charges of churned fiber customers < Mean of monthly charges of all customers\n",
    "#### We fail to reject Ho\n",
    "churners[churners.internet_service_type == 'Fiber optic'].monthly_charges.mean()"
   ]
  },
  {
   "cell_type": "code",
   "execution_count": null,
   "id": "bf04b809",
   "metadata": {},
   "outputs": [],
   "source": [
    "alpha=.05\n",
    "churn_sample = churners[churners.internet_service_type == 'Fiber optic'].monthly_charges\n",
    "overall_mean = df.monthly_charges.mean()\n",
    "\n",
    "t, p = stats.ttest_1samp(churn_sample, overall_mean)\n",
    "\n",
    "print(t, p/2, alpha)"
   ]
  },
  {
   "cell_type": "code",
   "execution_count": null,
   "id": "02e6a0d6",
   "metadata": {},
   "outputs": [],
   "source": [
    "if p/2 < alpha:\n",
    "    print(\"We fail to reject Ho\")\n",
    "elif t > 0:\n",
    "    print(\"We fail to reject Ho\")\n",
    "else:\n",
    "    print(\"We reject Ho\")"
   ]
  },
  {
   "cell_type": "code",
   "execution_count": null,
   "id": "d6b6a956",
   "metadata": {},
   "outputs": [],
   "source": [
    "churners[churners.senior_citizen == 1].monthly_charges.mean()"
   ]
  },
  {
   "cell_type": "code",
   "execution_count": null,
   "id": "15c27305",
   "metadata": {},
   "outputs": [],
   "source": [
    "fiber_churn=churners[churners.internet_service_type == 'Fiber optic']"
   ]
  },
  {
   "cell_type": "code",
   "execution_count": null,
   "id": "ffda8aa3",
   "metadata": {},
   "outputs": [],
   "source": []
  },
  {
   "cell_type": "code",
   "execution_count": null,
   "id": "c2f35048",
   "metadata": {},
   "outputs": [],
   "source": []
  },
  {
   "cell_type": "code",
   "execution_count": null,
   "id": "a977fecd",
   "metadata": {},
   "outputs": [],
   "source": [
    "sns.scatterplot(x=\"tenure\", y=\"monthly_charges\", data=fiber_churn, hue=\"payment_type\")"
   ]
  },
  {
   "cell_type": "code",
   "execution_count": null,
   "id": "3e946915",
   "metadata": {
    "scrolled": true
   },
   "outputs": [],
   "source": [
    "sns.kdeplot(x=\"tenure\", y=\"monthly_charges\", data=fiber_churn, hue=\"payment_type\",kind='kde')"
   ]
  },
  {
   "cell_type": "code",
   "execution_count": null,
   "id": "c827af16",
   "metadata": {},
   "outputs": [],
   "source": []
  },
  {
   "cell_type": "code",
   "execution_count": null,
   "id": "56d9bc5f",
   "metadata": {
    "scrolled": false
   },
   "outputs": [],
   "source": [
    "sns.jointplot(\"monthly_charges\", \"tenure\", data=fiber_churn, kind='hex')"
   ]
  },
  {
   "cell_type": "code",
   "execution_count": null,
   "id": "478d45cd",
   "metadata": {},
   "outputs": [],
   "source": [
    "#one tailed t test, monthly charges are higher for customers who churn than those that dont\n",
    "churn_sample = df[df.churn == 'Yes'].monthly_charges\n",
    "\n",
    "churn_sample.hist()"
   ]
  },
  {
   "cell_type": "code",
   "execution_count": null,
   "id": "aebb78c4",
   "metadata": {},
   "outputs": [],
   "source": [
    "#Ho: mean of monthly charges of churned customers is >= mean of monthly charges of all customers\n",
    "#Ha: mean of monthly charges of churned customers is < mean of monthly charges of all customers\n",
    "alpha=.05\n",
    "churn_sample = df[df.churn == 'Yes'].monthly_charges\n",
    "overall_mean = df.monthly_charges.mean()\n",
    "\n",
    "t, p = stats.ttest_1samp(churn_sample, overall_mean)\n",
    "\n",
    "print(t, p/2, alpha)"
   ]
  },
  {
   "cell_type": "code",
   "execution_count": null,
   "id": "d1fc1844",
   "metadata": {},
   "outputs": [],
   "source": [
    "if p/2 < alpha:\n",
    "    print(\"We fail to reject Ho\")\n",
    "elif t > 0:\n",
    "    print(\"We fail to reject Ho\")\n",
    "else:\n",
    "    print(\"We reject Ho\")"
   ]
  },
  {
   "cell_type": "code",
   "execution_count": null,
   "id": "9cb8fbd3",
   "metadata": {},
   "outputs": [],
   "source": [
    "#one tail t test, majority of churned customers are month to month customers, aka tenure less than 12\n",
    "churn_sample = df[df.churn == 'Yes'].tenure\n",
    "\n",
    "churn_sample.hist()"
   ]
  },
  {
   "cell_type": "code",
   "execution_count": null,
   "id": "87a546c5",
   "metadata": {},
   "outputs": [],
   "source": [
    "#Ho: mean length tenure of churned customers is <= mean length tenure of all customers\n",
    "#Ha: mean length tenure of churned customers is > mean length tenure of all customers\n",
    "alpha=.05\n",
    "churn_sample = df[df.churn == 'Yes'].tenure\n",
    "overall_mean = df.tenure.mean()\n",
    "\n",
    "t, p = stats.ttest_1samp(churn_sample, overall_mean)\n",
    "\n",
    "print(t, p/2, alpha)"
   ]
  },
  {
   "cell_type": "code",
   "execution_count": null,
   "id": "6a816aa2",
   "metadata": {},
   "outputs": [],
   "source": [
    "if p/2 > alpha:\n",
    "    print(\"We fail to reject Ho\")\n",
    "elif t < 0:\n",
    "    print(\"We fail to reject Ho\")\n",
    "else:\n",
    "    print(\"We reject Ho\")"
   ]
  },
  {
   "cell_type": "code",
   "execution_count": null,
   "id": "32450c3c",
   "metadata": {},
   "outputs": [],
   "source": [
    "no_churn_sample = df[df.churn == 'No'].monthly_charges\n",
    "\n",
    "no_churn_sample.hist()"
   ]
  },
  {
   "cell_type": "code",
   "execution_count": null,
   "id": "9c1db2fc",
   "metadata": {},
   "outputs": [],
   "source": [
    "# charges of customers who churn significantly different than those who do not churn\n",
    "\n",
    "# Ho: charges of customers who churn equals that of those who don't churn.\n",
    "\n",
    "# Ha: charges of customers who churn is not equal to that of those who don't churn."
   ]
  },
  {
   "cell_type": "code",
   "execution_count": null,
   "id": "93fd5f21",
   "metadata": {},
   "outputs": [],
   "source": [
    "t, p = stats.ttest_ind(churn_sample, no_churn_sample, equal_var=False)\n",
    "\n",
    "t, p\n",
    "#-t value and 0 p, significantly different"
   ]
  },
  {
   "cell_type": "code",
   "execution_count": null,
   "id": "4b1b5987",
   "metadata": {},
   "outputs": [],
   "source": [
    "r_monthly_charges, _ = stats.pearsonr(df.churn_encoded, df.monthly_charges)\n",
    "r_tenure, _ = stats.pearsonr(df.churn_encoded, df.tenure)\n",
    "\n",
    "print('Correlation between churn and monthly_charges')\n",
    "print(f'  r = {r_monthly_charges:.3f}')\n",
    "print('Correlation between churn and tenure')\n",
    "print(f'  r = {r_tenure:.3f}')"
   ]
  },
  {
   "cell_type": "code",
   "execution_count": null,
   "id": "5dab5f8a",
   "metadata": {},
   "outputs": [],
   "source": [
    "r, p = stats.pearsonr(df.churn_encoded, df.monthly_charges)\n",
    "r, p"
   ]
  },
  {
   "cell_type": "code",
   "execution_count": null,
   "id": "3aeaddaf",
   "metadata": {},
   "outputs": [],
   "source": [
    "index = ['Churn', 'No Churn']\n",
    "columns = ['contract_type', 'internet_service_type']\n",
    "\n",
    "observed = pd.DataFrame([[100, 50], [120, 28]], index=index, columns=columns)\n",
    "n = observed.values.sum()\n",
    "\n",
    "expected = pd.DataFrame([[.372, .132], [.367, .130]], index=index, columns=columns) * n\n",
    "\n",
    "chi2 = ((observed - expected)**2 / expected).values.sum()\n",
    "\n",
    "nrows, ncols = observed.shape\n",
    "\n",
    "degrees_of_freedom = (nrows - 1) * (ncols - 1)\n",
    "\n",
    "p = stats.chi2(degrees_of_freedom).sf(chi2)\n",
    "\n",
    "print('Observed')\n",
    "print(observed)\n",
    "print('---\\nExpected')\n",
    "print(expected)\n",
    "print('---\\n')\n",
    "print(f'chi^2 = {chi2:.4f}')\n",
    "print(f'p     = {p:.4f}')"
   ]
  },
  {
   "cell_type": "code",
   "execution_count": null,
   "id": "afa29d10",
   "metadata": {},
   "outputs": [],
   "source": [
    "pd.crosstab(df.churn, df.internet_service_type, margins=True, normalize=True)"
   ]
  },
  {
   "cell_type": "code",
   "execution_count": null,
   "id": "aab37e85",
   "metadata": {},
   "outputs": [],
   "source": [
    "istchurn=pd.crosstab(df.churn, df.internet_service_type, margins=True, normalize=True)"
   ]
  },
  {
   "cell_type": "code",
   "execution_count": null,
   "id": "7bbfd368",
   "metadata": {},
   "outputs": [],
   "source": [
    "chi2, p, degf, expected=stats.chi2_contingency(istchurn)\n",
    "print('Observed\\n')\n",
    "print(observed.values)\n",
    "print('---\\nExpected\\n')\n",
    "print(expected)\n",
    "print('---\\n')\n",
    "print(f'chi^2 = {chi2:.4f}')\n",
    "print(f'p     = {p:.4f}')"
   ]
  },
  {
   "cell_type": "code",
   "execution_count": null,
   "id": "56f042cb",
   "metadata": {},
   "outputs": [],
   "source": [
    "pd.crosstab(df.churn, df.contract_type, margins=True, normalize=True)"
   ]
  },
  {
   "cell_type": "code",
   "execution_count": null,
   "id": "a62823ce",
   "metadata": {},
   "outputs": [],
   "source": [
    "ctchurn = pd.crosstab(df.churn, df.contract_type, margins=True, normalize=True)"
   ]
  },
  {
   "cell_type": "code",
   "execution_count": null,
   "id": "5d900712",
   "metadata": {},
   "outputs": [],
   "source": [
    "chi2, p, degf, expected=stats.chi2_contingency(ctchurn)\n",
    "print('Observed\\n')\n",
    "print(observed.values)\n",
    "print('---\\nExpected\\n')\n",
    "print(expected)\n",
    "print('---\\n')\n",
    "print(f'chi^2 = {chi2:.4f}')\n",
    "print(f'p     = {p:.4f}')"
   ]
  },
  {
   "cell_type": "code",
   "execution_count": null,
   "id": "44281e6b",
   "metadata": {},
   "outputs": [],
   "source": [
    "pd.crosstab(df.churn, df.payment_type, margins=True, normalize=True)"
   ]
  },
  {
   "cell_type": "code",
   "execution_count": null,
   "id": "5e2002de",
   "metadata": {},
   "outputs": [],
   "source": [
    "ptchurn = pd.crosstab(df.churn, df.payment_type, margins=True, normalize=True)"
   ]
  },
  {
   "cell_type": "code",
   "execution_count": null,
   "id": "2bfdb1f9",
   "metadata": {},
   "outputs": [],
   "source": [
    "chi2, p, degf, expected=stats.chi2_contingency(ptchurn)\n",
    "print('Observed\\n')\n",
    "print(observed.values)\n",
    "print('---\\nExpected\\n')\n",
    "print(expected)\n",
    "print('---\\n')\n",
    "print(f'chi^2 = {chi2:.4f}')\n",
    "print(f'p     = {p:.4f}')"
   ]
  },
  {
   "cell_type": "code",
   "execution_count": null,
   "id": "aaffb4d5",
   "metadata": {},
   "outputs": [],
   "source": [
    "sns.distplot(df.tenure ,hist=False, bins=10);"
   ]
  },
  {
   "cell_type": "code",
   "execution_count": null,
   "id": "1eca63f9",
   "metadata": {},
   "outputs": [],
   "source": [
    "sns.distplot(df.monthly_charges ,hist=False, bins=10);"
   ]
  },
  {
   "cell_type": "code",
   "execution_count": null,
   "id": "48370536",
   "metadata": {},
   "outputs": [],
   "source": [
    "df.corr()['churn_encoded'].sort_values(ascending = False).plot(kind='bar')"
   ]
  },
  {
   "cell_type": "markdown",
   "id": "76d9a2f6",
   "metadata": {},
   "source": [
    "### Exploration summary and conclusion:\n",
    "\n",
    "#### Key Findings:\n",
    "##### The overall churn rate for customers at Telco is 26.6%.\n",
    "###### Fiber optic customers make up 44.0% of customer base and churn at 18.4%.\n",
    "###### Month to month contract customers make up 55.1% of customer base and churn at 23.5%.\n",
    "###### Electronic check payment type customers make up 33.6% of customer base and churn at 15.2%.\n",
    "###### Senior citizens make up 16% of customer base and churn at 41.7%\n",
    "##### Median tenure of churned customers: 10 months.\n",
    "##### Median tenure of month to month customers that have churned: 7 months.\n",
    "##### Median tenure of electronic check payment customers that have churned: 9 months.\n",
    "##### Average monthly charges: 64.80.\n",
    "##### Average monthly charges of customers who have churned: 74.44, 9.64 higher than average.\n",
    "##### Average monthly charges of fiber customers: 88.13, 23.33 higher than average.\n",
    "##### Average monthly charges of month to month customers: 73.02, 8.22 higher than average.\n",
    "##### Average monthly charges of electronic check payment customers: 78.70, 13.90 higher than average."
   ]
  },
  {
   "cell_type": "markdown",
   "id": "f67638c2",
   "metadata": {},
   "source": [
    "## Tested Hypotheses and Results\n",
    "#### 1. Ho : Mean of monthly charges of churned customers >= Mean of monthly charges of all customers\n",
    "####    Ha : Mean of monthly charges of churned customers < Mean of monthly charges of all customers\n",
    "#### We fail to reject Ho\n",
    "___\n",
    "#### 2. Ho: mean length tenure of churned customers is <= mean length tenure of all customers\n",
    "####    Ha: mean length tenure of churned customers is > mean length tenure of all customers\n",
    "#### We fail to reject Ho\n",
    "___\n",
    "#### 3. Charges of customers who churn significantly different than those who do not churn\n",
    "####    Ho: Charges of customers who churn equals that of those who don't churn.\n",
    "####    Ha: Charges of customers who churn is not equal to that of those who don't churn.\n",
    "#### We reject Ho, -t value and 0 p, significantly different\n",
    "___\n",
    "#### 4. Ho : Mean of monthly charges of churned fiber customers >= Mean of monthly charges of all customers\n",
    "####    Ha : Mean of monthly charges of churned fiber customers < Mean of monthly charges of all customers\n",
    "#### We fail to reject Ho\n",
    "___\n",
    "#### 5. Ho : Mean of monthly charges of churned month to month customers >= Mean of monthly charges of all customers\n",
    "####    Ha : Mean of monthly charges of churned month to month customers < Mean of monthly charges of all customers\n",
    "#### We fail to reject Ho\n",
    "___\n",
    "#### 6. Ho : Mean of monthly charges of churned electronic check customers >= Mean of monthly charges of all customers\n",
    "####    Ha : Mean of monthly charges of churned electronic customers < Mean of monthly charges of all customers\n",
    "#### We fail to reject Ho"
   ]
  },
  {
   "cell_type": "code",
   "execution_count": null,
   "id": "10c81b3b",
   "metadata": {},
   "outputs": [],
   "source": [
    "# test prep_telco_data & train_validate_test\n",
    "train, validate, test = prepare.train_validate_test(df)"
   ]
  },
  {
   "cell_type": "code",
   "execution_count": null,
   "id": "6589cb8f",
   "metadata": {},
   "outputs": [],
   "source": [
    "#modeling\n",
    "#identify baseline prediction\n",
    "train.churn.value_counts()"
   ]
  },
  {
   "cell_type": "code",
   "execution_count": null,
   "id": "81395848",
   "metadata": {},
   "outputs": [],
   "source": [
    "train.shape, validate.shape, test.shape"
   ]
  },
  {
   "cell_type": "code",
   "execution_count": null,
   "id": "dd0cf172",
   "metadata": {},
   "outputs": [],
   "source": [
    "train.head()"
   ]
  },
  {
   "cell_type": "code",
   "execution_count": null,
   "id": "49df2a58",
   "metadata": {},
   "outputs": [],
   "source": [
    "#identify baseline\n",
    "#baseline will be mode, no churn"
   ]
  },
  {
   "cell_type": "code",
   "execution_count": null,
   "id": "f91560e7",
   "metadata": {},
   "outputs": [],
   "source": [
    "baseline_accuracy = (train.churn_encoded ==0).mean()\n",
    "baseline_accuracy"
   ]
  },
  {
   "cell_type": "code",
   "execution_count": null,
   "id": "f755c600",
   "metadata": {},
   "outputs": [],
   "source": [
    "#modeling\n",
    "#review current features, narrow down to selected features\n",
    "train.info()"
   ]
  },
  {
   "cell_type": "code",
   "execution_count": null,
   "id": "de76c69f",
   "metadata": {},
   "outputs": [],
   "source": [
    "#features I want included, ensuring target is not in the features\n",
    "features = ['senior_citizen', 'tenure', 'monthly_charges', 'contract_type_One year', 'contract_type_Two year', 'internet_service_type_Fiber optic', 'internet_service_type_None', 'payment_type_Credit card (automatic)','payment_type_Electronic check','payment_type_Mailed check']\n",
    "#what our target is\n",
    "target=['churn_encoded']"
   ]
  },
  {
   "cell_type": "code",
   "execution_count": null,
   "id": "022eb9d4",
   "metadata": {},
   "outputs": [],
   "source": [
    "# setup our X inputs and y target variable for each split\n",
    "# listed features will be input into features\n",
    "X_train = train[features] \n",
    "y_train = train[target] \n",
    "\n",
    "X_validate = validate[features] \n",
    "y_validate = validate[target]\n",
    "\n",
    "X_test = test[features] \n",
    "y_test = test[target]"
   ]
  },
  {
   "cell_type": "code",
   "execution_count": null,
   "id": "ffa976ad",
   "metadata": {},
   "outputs": [],
   "source": [
    "# create, new Decision Tree model\n",
    "# Be sure to set the max_depth argument\n",
    "\n",
    "tree1 = DecisionTreeClassifier(max_depth=3, random_state=123)"
   ]
  },
  {
   "cell_type": "code",
   "execution_count": null,
   "id": "2e585e7f",
   "metadata": {},
   "outputs": [],
   "source": [
    "#train/fit our model on the training data\n",
    "\n",
    "tree1 = tree1.fit(X_train, y_train)\n",
    "tree1"
   ]
  },
  {
   "cell_type": "code",
   "execution_count": null,
   "id": "ddacebd5",
   "metadata": {},
   "outputs": [],
   "source": [
    "#create a function to calculate the metrics\n",
    "def get_metrics(mod, X, y):\n",
    "    baseline_accuracy = (train.churn == 0).mean()\n",
    "    y_pred = mod.predict(X)\n",
    "    accuracy = mod.score(X, y)\n",
    "    prfs = pd.DataFrame(precision_recall_fscore_support(y, y_pred), index=['precision', 'recall', 'f1-score', 'support'])\n",
    "    \n",
    "    print(f'''\n",
    "        The accuracy for our model is: {accuracy:.2%} \n",
    "    ''')\n",
    "    return prfs"
   ]
  },
  {
   "cell_type": "code",
   "execution_count": null,
   "id": "d24c469c",
   "metadata": {},
   "outputs": [],
   "source": [
    "# Now we'll make a SET OF PREDICTIONS using this trained model\n",
    "y_pred = tree1.predict(X_train)\n",
    "# ESTIMATE THE PROBABLITIES for each class\n",
    "y_pred_proba = tree1.predict_proba(X_train)"
   ]
  },
  {
   "cell_type": "code",
   "execution_count": null,
   "id": "bed06ba8",
   "metadata": {},
   "outputs": [],
   "source": [
    "print('Accuracy of Decision Tree classifier on training set: {:.2f}'\n",
    "      .format(tree1.score(X_train, y_train)))"
   ]
  },
  {
   "cell_type": "code",
   "execution_count": null,
   "id": "c2b4f4bf",
   "metadata": {},
   "outputs": [],
   "source": [
    "plot_confusion_matrix(tree1, X_train, y_train)"
   ]
  },
  {
   "cell_type": "code",
   "execution_count": null,
   "id": "0e08caba",
   "metadata": {},
   "outputs": [],
   "source": [
    "\n",
    "print(classification_report(y_train, y_pred))"
   ]
  },
  {
   "cell_type": "code",
   "execution_count": null,
   "id": "bd72f4fa",
   "metadata": {
    "scrolled": true
   },
   "outputs": [],
   "source": [
    "# Produce the classification report on the actual y values and this model's predicted y values\n",
    "report = classification_report(y_train, y_pred, output_dict=True)\n",
    "print(\"Tree of 3 depth\")\n",
    "pd.DataFrame(report)"
   ]
  },
  {
   "cell_type": "code",
   "execution_count": null,
   "id": "505a9595",
   "metadata": {},
   "outputs": [],
   "source": []
  },
  {
   "cell_type": "code",
   "execution_count": null,
   "id": "9fb806ec",
   "metadata": {},
   "outputs": [],
   "source": [
    "TN, FP, FN, TP = confusion_matrix(y_train, y_pred).ravel()"
   ]
  },
  {
   "cell_type": "code",
   "execution_count": null,
   "id": "8ffe3716",
   "metadata": {},
   "outputs": [],
   "source": [
    "negative_cases = TN + FP\n",
    "positive_cases = FN + TP\n",
    "print(f\"Negative Cases: {negative_cases}\")\n",
    "print(f\"Positive Cases: {positive_cases}\")\n",
    "print(y_train.value_counts())"
   ]
  },
  {
   "cell_type": "code",
   "execution_count": null,
   "id": "b92cd018",
   "metadata": {},
   "outputs": [],
   "source": [
    "ALL = TP + FP + FN + TN\n",
    "\n",
    "accuracy = (TP + TN)/ALL\n",
    "true_positive_rate = sensitivity = recall = power = TP/(TP+FN)\n",
    "false_positive_rate = false_alarm_ratio = fallout = FP/(FP+TN)\n",
    "true_negative_rate = specificity = selectivity = TN/(TN+FP)\n",
    "false_negative_rate = miss_rate = FN/(FN+TP)\n",
    "precision = PPV = TP/(TP+FP)\n",
    "f1_score = 2*(precision*recall)/(precision+recall)\n",
    "support_pos = TP + FN\n",
    "support_neg = FP + TN\n",
    "\n",
    "print(f\"Accuracy: {accuracy}\", '\\n')\n",
    "print(f\"True Positive Rate/Sensitivity/Recall/Power: {true_positive_rate}\", '\\n')\n",
    "print(f\"False Positive Rate/False Alarm Ratio/Fall-out: {false_positive_rate}\", '\\n')\n",
    "print(f\"True Negative Rate/Specificity/Selectivity: {true_negative_rate}\", '\\n')\n",
    "print(f\"False Negative Rate/Miss Rate: {false_negative_rate}\", '\\n')\n",
    "print(f\"Precision/PPV: {precision}\", '\\n')\n",
    "print(f\"F1 Score: {f1_score}\", '\\n')\n",
    "print(f\"Support (0): {support_neg}\", '\\n')\n",
    "print(f\"Support (1): {support_pos}\")"
   ]
  },
  {
   "cell_type": "code",
   "execution_count": null,
   "id": "51d6c798",
   "metadata": {},
   "outputs": [],
   "source": [
    "# Finding Optimal max_depth"
   ]
  },
  {
   "cell_type": "code",
   "execution_count": null,
   "id": "d0092bff",
   "metadata": {},
   "outputs": [],
   "source": [
    "# loop to adjust depth\n",
    "for i in range(1, 21):\n",
    "    # Make the model\n",
    "    tree = DecisionTreeClassifier(max_depth=i, random_state=123)\n",
    "\n",
    "    # Fit the model (on train and only train)\n",
    "    tree = tree.fit(X_train, y_train)\n",
    "\n",
    "    # Use the model\n",
    "    # We'll evaluate the model's performance on train, first\n",
    "    y_pred = tree.predict(X_train)\n",
    "\n",
    "    # Produce the classification report on the actual y values and this model's predicted y values\n",
    "    report = classification_report(y_train, y_pred, output_dict=True)\n",
    "    print(f\"Tree with max depth of {i}\")\n",
    "    print(pd.DataFrame(report))\n",
    "    print()"
   ]
  },
  {
   "cell_type": "code",
   "execution_count": null,
   "id": "6a58e5ad",
   "metadata": {},
   "outputs": [],
   "source": []
  },
  {
   "cell_type": "code",
   "execution_count": null,
   "id": "079a46b2",
   "metadata": {},
   "outputs": [],
   "source": [
    "# Which model performs best on your out-of-sample data, the validate set?"
   ]
  },
  {
   "cell_type": "code",
   "execution_count": null,
   "id": "7c85d18c",
   "metadata": {},
   "outputs": [],
   "source": [
    "#loop to compare in sample and out of sample\n",
    "\n",
    "metrics=[]\n",
    "\n",
    "for i in range(1,25):\n",
    "    tree = DecisionTreeClassifier(max_depth= i, random_state=123) #make model \n",
    "\n",
    "    tree = tree.fit(X_train, y_train) #fit model\n",
    "   \n",
    "    in_sample_accuracy=tree.score(X_train, y_train) #usemodel on train\n",
    "    \n",
    "    out_of_sample_accuracy = tree.score(X_validate, y_validate)#use model on validate\n",
    "    \n",
    "    output = {\n",
    "        \"max_depth\":i,\n",
    "        \"train_accuracy\":in_sample_accuracy,\n",
    "        \"validate_accuracy\":out_of_sample_accuracy\n",
    "    }\n",
    "    metrics.append(output)\n",
    "df = pd.DataFrame(metrics)\n",
    "df[\"difference\"]=df.train_accuracy-df.validate_accuracy\n",
    "df"
   ]
  },
  {
   "cell_type": "code",
   "execution_count": null,
   "id": "8f189eca",
   "metadata": {},
   "outputs": [],
   "source": [
    "plt.figure(figsize=(12, 6))\n",
    "plt.plot(df.max_depth, df.train_accuracy, marker = 'o')\n",
    "plt.plot(df.max_depth, df.validate_accuracy, marker = 'o')\n",
    "plt.title('Overfitting Occurs at Higher Values for Max Depth')\n",
    "plt.xlabel('Max Depth')\n",
    "plt.ylabel('Accuracy')\n",
    "plt.show()"
   ]
  },
  {
   "cell_type": "code",
   "execution_count": null,
   "id": "cd3d8f67",
   "metadata": {},
   "outputs": [],
   "source": [
    "#max depth of 5 produces accuracy of train = 0.813056 validate= 0.778436 difference = 0.034620 \n",
    "#compared to 73.4% baseline"
   ]
  },
  {
   "cell_type": "code",
   "execution_count": null,
   "id": "1d3a51ea",
   "metadata": {},
   "outputs": [],
   "source": []
  },
  {
   "cell_type": "code",
   "execution_count": null,
   "id": "bbd1222d",
   "metadata": {},
   "outputs": [],
   "source": [
    "#random forest model"
   ]
  },
  {
   "cell_type": "code",
   "execution_count": null,
   "id": "7cb40eeb",
   "metadata": {},
   "outputs": [],
   "source": [
    "#create the model\n",
    "rf = RandomForestClassifier(max_depth=5, min_samples_leaf=21, random_state=123)\n",
    "rf"
   ]
  },
  {
   "cell_type": "code",
   "execution_count": null,
   "id": "f1ed33b2",
   "metadata": {},
   "outputs": [],
   "source": [
    "#fit the model\n",
    "rf.fit(X_train, y_train)"
   ]
  },
  {
   "cell_type": "code",
   "execution_count": null,
   "id": "4fea7f01",
   "metadata": {},
   "outputs": [],
   "source": [
    "# Feature Importance\n",
    "# Evaluate importance, or weight, of each feature.\n",
    "print(rf.feature_importances_)"
   ]
  },
  {
   "cell_type": "code",
   "execution_count": null,
   "id": "0bf01b47",
   "metadata": {},
   "outputs": [],
   "source": [
    "# Make Predictions on survival\n",
    "\n",
    "y_pred = rf.predict(X_train)\n",
    "y_pred"
   ]
  },
  {
   "cell_type": "code",
   "execution_count": null,
   "id": "da7d7949",
   "metadata": {},
   "outputs": [],
   "source": [
    "# Estimate Probability\n",
    "\n",
    "# Estimate the probability ofsurvival, using the training data.\n",
    "y_pred_proba = rf.predict_proba(X_train)\n",
    "y_pred_proba"
   ]
  },
  {
   "cell_type": "code",
   "execution_count": null,
   "id": "d567a1e2",
   "metadata": {},
   "outputs": [],
   "source": [
    "# Evaluate Model\n",
    "# Compute the Accuracy\n",
    "print('Accuracy of random forest classifier on training set: {:.2f}'\n",
    "     .format(rf.score(X_train, y_train)))"
   ]
  },
  {
   "cell_type": "code",
   "execution_count": null,
   "id": "105f21af",
   "metadata": {},
   "outputs": [],
   "source": [
    "# Create a confusion matrix\n",
    "print(confusion_matrix(y_train, y_pred))"
   ]
  },
  {
   "cell_type": "code",
   "execution_count": null,
   "id": "822be9f0",
   "metadata": {},
   "outputs": [],
   "source": [
    "# Create a classificaiton report\n",
    "\n",
    "# Precision: TP/(tp+FP)\n",
    " \n",
    "# Recall: TP/(TP+FN)\n",
    " \n",
    "# F1-Score: A measure of accuracy. The harmonic mean of precision & recall. The harmonic mean is the reciprocal of the arithmetic mean of the reciprocals.\n",
    "# F1 between zero and one\n",
    "\n",
    "# F1-score = harmonic mean = 2/(1/precision+1/recall)\n",
    "# Support: number of occurrences of each class.\n",
    "print(classification_report(y_train, y_pred))"
   ]
  },
  {
   "cell_type": "code",
   "execution_count": null,
   "id": "6e94322d",
   "metadata": {},
   "outputs": [],
   "source": [
    "# Validate Model\n",
    "# Evaluate on Out-of-Sample data\n",
    "\n",
    "# Compute the accuracy of the model when run on the validate dataset.\n",
    "print('Accuracy of random forest classifier on validate set: {:.2f}'\n",
    "     .format(rf.score(X_validate, y_validate)))"
   ]
  },
  {
   "cell_type": "code",
   "execution_count": null,
   "id": "851f1c9a",
   "metadata": {},
   "outputs": [],
   "source": [
    "TN, FP, FN, TP = confusion_matrix(y_train, y_pred).ravel()\n",
    "\n",
    "TN, FP, FN, TP"
   ]
  },
  {
   "cell_type": "code",
   "execution_count": null,
   "id": "b25a51c8",
   "metadata": {},
   "outputs": [],
   "source": [
    "negative_cases = TN + FP\n",
    "positive_cases = FN + TP\n",
    "print(f\"Negative Cases: {negative_cases}\")\n",
    "print(f\"Positive Cases: {positive_cases}\")\n",
    "print(y_train.value_counts())"
   ]
  },
  {
   "cell_type": "code",
   "execution_count": null,
   "id": "df1ab588",
   "metadata": {},
   "outputs": [],
   "source": [
    "ALL = TP + FP + FN + TN\n",
    "\n",
    "accuracy = (TP + TN)/ALL\n",
    "true_positive_rate = sensitivity = recall = power = TP/(TP+FN)\n",
    "false_positive_rate = false_alarm_ratio = fallout = FP/(FP+TN)\n",
    "true_negative_rate = specificity = selectivity = TN/(TN+FP)\n",
    "false_negative_rate = miss_rate = FN/(FN+TP)\n",
    "precision = PPV = TP/(TP+FP)\n",
    "f1_score = 2*(precision*recall)/(precision+recall)\n",
    "support_pos = TP + FN\n",
    "support_neg = FP + TN\n",
    "\n",
    "print(f\"Accuracy: {accuracy}\", '\\n')\n",
    "print(f\"True Positive Rate/Sensitivity/Recall/Power: {true_positive_rate}\", '\\n')\n",
    "print(f\"False Positive Rate/False Alarm Ratio/Fall-out: {false_positive_rate}\", '\\n')\n",
    "print(f\"True Negative Rate/Specificity/Selectivity: {true_negative_rate}\", '\\n')\n",
    "print(f\"False Negative Rate/Miss Rate: {false_negative_rate}\", '\\n')\n",
    "print(f\"Precision/PPV: {precision}\", '\\n')\n",
    "print(f\"F1 Score: {f1_score}\", '\\n')\n",
    "print(f\"Support (0): {support_neg}\", '\\n')\n",
    "print(f\"Support (1): {support_pos}\")"
   ]
  },
  {
   "cell_type": "code",
   "execution_count": null,
   "id": "4a1ae20e",
   "metadata": {},
   "outputs": [],
   "source": [
    "# Run through steps increasing your min_samples_leaf and decreasing your max_depth.\n",
    "# loop to adjust depth\n",
    "for i in range(1, 10):\n",
    "    # Make the model\n",
    "    rf = RandomForestClassifier(max_depth=5, min_samples_leaf=i, random_state=123)\n",
    "\n",
    "    # Fit the model (on train and only train)\n",
    "    rf = rf.fit(X_train, y_train)\n",
    "\n",
    "    # Use the model\n",
    "    # We'll evaluate the model's performance on train, first\n",
    "    y_predictions = rf.predict(X_train)\n",
    "\n",
    "    # Produce the classification report on the actual y values and this model's predicted y values\n",
    "    report = classification_report(y_train, y_predictions, output_dict=True)\n",
    "    print(f\"RF with min samples leaf of {i}\")\n",
    "    print(pd.DataFrame(report))\n",
    "    print()"
   ]
  },
  {
   "cell_type": "code",
   "execution_count": null,
   "id": "86783c7b",
   "metadata": {},
   "outputs": [],
   "source": [
    "# Run through steps increasing your min_samples_leaf and decreasing your max_depth.\n",
    "# loop to adjust depth\n",
    "for i in range(1, 20):\n",
    "    # Make the model\n",
    "    rf = RandomForestClassifier(max_depth=20-i, min_samples_leaf=1+i, random_state=123)\n",
    "\n",
    "    # Fit the model (on train and only train)\n",
    "    rf = rf.fit(X_train, y_train)\n",
    "\n",
    "    # Use the model\n",
    "    # We'll evaluate the model's performance on train, first\n",
    "    y_predictions = rf.predict(X_train)\n",
    "\n",
    "    # Produce the classification report on the actual y values and this model's predicted y values\n",
    "    report = classification_report(y_train, y_predictions, output_dict=True)\n",
    "    print(f\"RF with max depth of {20-i}\")\n",
    "    print(pd.DataFrame(report))\n",
    "    print()"
   ]
  },
  {
   "cell_type": "code",
   "execution_count": null,
   "id": "c9feebc2",
   "metadata": {
    "scrolled": false
   },
   "outputs": [],
   "source": [
    "#loop to compare in sample and out of sample\n",
    "\n",
    "metrics=[]\n",
    "\n",
    "for i in range(1,10):\n",
    "    rf = RandomForestClassifier(max_depth=i, min_samples_leaf=2*i, random_state=123) #make model \n",
    "\n",
    "    rf = rf.fit(X_train, y_train) #fit model\n",
    "   \n",
    "    in_sample_accuracy=rf.score(X_train, y_train) #usemodel on train\n",
    "    \n",
    "    out_of_sample_accuracy = rf.score(X_validate, y_validate)#use model on validate\n",
    "    \n",
    "    output = {\n",
    "        \"min_samples_leaf\":2*i,\n",
    "        \"max_depth\":i,\n",
    "        \"train_accuracy\":in_sample_accuracy,\n",
    "        \"validate_accuracy\":out_of_sample_accuracy\n",
    "    }\n",
    "    metrics.append(output)\n",
    "df = pd.DataFrame(metrics)\n",
    "df[\"difference\"]=df.train_accuracy-df.validate_accuracy\n",
    "df"
   ]
  },
  {
   "cell_type": "code",
   "execution_count": null,
   "id": "85d24921",
   "metadata": {},
   "outputs": [],
   "source": [
    "plt.figure(figsize=(12, 6))\n",
    "plt.plot(df.max_depth, df.train_accuracy, marker = 'o')\n",
    "plt.plot(df.max_depth, df.validate_accuracy, marker = 'o')\n",
    "plt.plot(df.min_samples_leaf, df.train_accuracy, marker = 'x')\n",
    "plt.plot(df.min_samples_leaf, df.validate_accuracy, marker = 'x')\n",
    "\n",
    "plt.title('Overfitting Occurs at Higher Values for Max Depth')\n",
    "plt.xlabel('max_depth')\n",
    "plt.ylabel('Accuracy')\n",
    "plt.show()"
   ]
  },
  {
   "cell_type": "code",
   "execution_count": null,
   "id": "3e1cb718",
   "metadata": {},
   "outputs": [],
   "source": [
    "#min leaf 12 max depth 6 produced train = 0.810008 validate = 0.784953 difference of 0.025055\n",
    "#greater than 73.4 baseline"
   ]
  },
  {
   "cell_type": "code",
   "execution_count": null,
   "id": "3bcce271",
   "metadata": {},
   "outputs": [],
   "source": []
  },
  {
   "cell_type": "code",
   "execution_count": null,
   "id": "035ae331",
   "metadata": {},
   "outputs": [],
   "source": [
    "#knn model"
   ]
  },
  {
   "cell_type": "code",
   "execution_count": null,
   "id": "e4517d4d",
   "metadata": {},
   "outputs": [],
   "source": []
  },
  {
   "cell_type": "code",
   "execution_count": null,
   "id": "ca5ca30a",
   "metadata": {},
   "outputs": [],
   "source": [
    "# Create KNN Object\n",
    "knn4 = KNeighborsClassifier(n_neighbors=4, weights='uniform')"
   ]
  },
  {
   "cell_type": "code",
   "execution_count": null,
   "id": "00f03681",
   "metadata": {},
   "outputs": [],
   "source": [
    "# Fit the Model to the Training Data\n",
    "knn4.fit(X_train, y_train)"
   ]
  },
  {
   "cell_type": "code",
   "execution_count": null,
   "id": "bab47bd6",
   "metadata": {},
   "outputs": [],
   "source": [
    "# Make Predictions\n",
    "y_pred = knn4.predict(X_train)\n",
    "y_pred[:10]"
   ]
  },
  {
   "cell_type": "code",
   "execution_count": null,
   "id": "04bd5696",
   "metadata": {},
   "outputs": [],
   "source": [
    "y_train[:10]"
   ]
  },
  {
   "cell_type": "code",
   "execution_count": null,
   "id": "4d6af33c",
   "metadata": {},
   "outputs": [],
   "source": [
    "# Estimate Probability\n",
    "y_pred_proba = knn4.predict_proba(X_train)\n",
    "y_pred_proba[:10]"
   ]
  },
  {
   "cell_type": "code",
   "execution_count": null,
   "id": "16b9b83c",
   "metadata": {},
   "outputs": [],
   "source": [
    "# Evaluate Model"
   ]
  },
  {
   "cell_type": "code",
   "execution_count": null,
   "id": "1124fdd5",
   "metadata": {},
   "outputs": [],
   "source": [
    "# Compute the Accuracy\n",
    "print('Accuracy of KNN classifier on training set: {:.2f}'\n",
    "     .format(knn4.score(X_train, y_train)))"
   ]
  },
  {
   "cell_type": "code",
   "execution_count": null,
   "id": "271588e6",
   "metadata": {},
   "outputs": [],
   "source": [
    "# confusion matrix\n",
    "print(confusion_matrix(y_train, y_pred))"
   ]
  },
  {
   "cell_type": "code",
   "execution_count": null,
   "id": "c0e8830c",
   "metadata": {},
   "outputs": [],
   "source": [
    "#plot confusion matrix\n",
    "plot_confusion_matrix(knn4, X_train, y_train)"
   ]
  },
  {
   "cell_type": "code",
   "execution_count": null,
   "id": "493d4b7a",
   "metadata": {},
   "outputs": [],
   "source": [
    "#true neg, false pos, false neg, true pos with.ravel method, works on confusion matrix 2x2\n",
    "TN, FP, FN, TP = confusion_matrix(y_train, y_pred).ravel()\n",
    "TN, FP, FN, TP"
   ]
  },
  {
   "cell_type": "code",
   "execution_count": null,
   "id": "15caea68",
   "metadata": {},
   "outputs": [],
   "source": [
    "negative_cases = TN + FP\n",
    "positive_cases = FN + TP\n",
    "print(f\"Negative Cases: {negative_cases}\")\n",
    "print(f\"Positive Cases: {positive_cases}\")\n",
    "print(y_train.value_counts())\n"
   ]
  },
  {
   "cell_type": "code",
   "execution_count": null,
   "id": "f75ce779",
   "metadata": {},
   "outputs": [],
   "source": [
    "ALL = TP + FP + FN + TN\n",
    "\n",
    "accuracy = (TP + TN)/ALL\n",
    "true_positive_rate = sensitivity = recall = power = TP/(TP+FN)\n",
    "false_positive_rate = false_alarm_ratio = fallout = FP/(FP+TN)\n",
    "true_negative_rate = specificity = selectivity = TN/(TN+FP)\n",
    "false_negative_rate = miss_rate = FN/(FN+TP)\n",
    "precision = PPV = TP/(TP+FP)\n",
    "f1_score = 2*(precision*recall)/(precision+recall)\n",
    "support_pos = TP + FN\n",
    "support_neg = FP + TN\n",
    "\n",
    "print(f\"Accuracy: {accuracy}\", '\\n')\n",
    "print(f\"True Positive Rate/Sensitivity/Recall/Power: {true_positive_rate}\", '\\n')\n",
    "print(f\"False Positive Rate/False Alarm Ratio/Fall-out: {false_positive_rate}\", '\\n')\n",
    "print(f\"True Negative Rate/Specificity/Selectivity: {true_negative_rate}\", '\\n')\n",
    "print(f\"False Negative Rate/Miss Rate: {false_negative_rate}\", '\\n')\n",
    "print(f\"Precision/PPV: {precision}\", '\\n')\n",
    "print(f\"F1 Score: {f1_score}\", '\\n')\n",
    "print(f\"Support (0): {support_neg}\", '\\n')\n",
    "print(f\"Support (1): {support_pos}\")"
   ]
  },
  {
   "cell_type": "code",
   "execution_count": null,
   "id": "420bb12f",
   "metadata": {},
   "outputs": [],
   "source": [
    "print(classification_report(y_train, y_pred))"
   ]
  },
  {
   "cell_type": "code",
   "execution_count": null,
   "id": "6d258f2d",
   "metadata": {},
   "outputs": [],
   "source": [
    "# loop to adjust neighbors\n",
    "for i in range(1, 21):\n",
    "    # Make the model\n",
    "    knntest = KNeighborsClassifier(n_neighbors=i, weights='uniform')\n",
    "\n",
    "    # Fit the model (on train and only train)\n",
    "    knntest = knntest.fit(X_train, y_train)\n",
    "\n",
    "    # Use the model\n",
    "    # We'll evaluate the model's performance on train, first\n",
    "    y_predictions = knntest.predict(X_train)\n",
    "\n",
    "    # Produce the classification report on the actual y values and this model's predicted y values\n",
    "    report = classification_report(y_train, y_predictions, output_dict=True)\n",
    "    print(f\"KNN with neighbor value of {i}\")\n",
    "    print(pd.DataFrame(report))\n",
    "    print()"
   ]
  },
  {
   "cell_type": "code",
   "execution_count": null,
   "id": "4c147b23",
   "metadata": {
    "scrolled": true
   },
   "outputs": [],
   "source": [
    "#loop to compare in sample and out of sample\n",
    "\n",
    "metrics=[]\n",
    "\n",
    "for i in range(1,50):\n",
    "    knntest = KNeighborsClassifier(n_neighbors=i, weights='uniform') #make model \n",
    "\n",
    "    knntest = knntest.fit(X_train, y_train) #fit model\n",
    "   \n",
    "    in_sample_accuracy=knntest.score(X_train, y_train) #usemodel on train\n",
    "    \n",
    "    out_of_sample_accuracy = knntest.score(X_validate, y_validate)#use model on validate\n",
    "    \n",
    "    output = {\n",
    "        \"neighbors\":i,\n",
    "        \"train_accuracy\":in_sample_accuracy,\n",
    "        \"validate_accuracy\":out_of_sample_accuracy\n",
    "    }\n",
    "    metrics.append(output)\n",
    "df = pd.DataFrame(metrics)\n",
    "df[\"difference\"]=df.train_accuracy-df.validate_accuracy\n",
    "df"
   ]
  },
  {
   "cell_type": "code",
   "execution_count": null,
   "id": "9af601cc",
   "metadata": {},
   "outputs": [],
   "source": [
    "#21 nieghbors with train = 0.802388 and validate = 0.779621 with a difference of 0.022767\n",
    "#compared to 73.4% baseline"
   ]
  },
  {
   "cell_type": "code",
   "execution_count": null,
   "id": "b34b4712",
   "metadata": {},
   "outputs": [],
   "source": [
    "plt.figure(figsize=(12, 6))\n",
    "plt.plot(df.neighbors, df.train_accuracy, marker = 'o')\n",
    "plt.plot(df.neighbors, df.validate_accuracy, marker = 'o')\n",
    "plt.title('Model becomes less overfit with more neighbors')\n",
    "plt.xlabel('Neighbors')\n",
    "plt.ylabel('Accuracy')\n",
    "plt.show()"
   ]
  },
  {
   "cell_type": "code",
   "execution_count": null,
   "id": "1d0f9a76",
   "metadata": {},
   "outputs": [],
   "source": [
    "#logistic regression"
   ]
  },
  {
   "cell_type": "code",
   "execution_count": null,
   "id": "437b62c3",
   "metadata": {},
   "outputs": [],
   "source": [
    "# create the object\n",
    "# Define the logistic regression model\n",
    "logit = LogisticRegression(C=1, random_state=123)"
   ]
  },
  {
   "cell_type": "code",
   "execution_count": null,
   "id": "c56acfbf",
   "metadata": {},
   "outputs": [],
   "source": [
    "# fit the model on train data\n",
    "logit.fit(X_train, y_train)"
   ]
  },
  {
   "cell_type": "code",
   "execution_count": null,
   "id": "7328e60b",
   "metadata": {},
   "outputs": [],
   "source": [
    "# Make Predictions\n",
    "y_pred = logit.predict(X_train)\n",
    "y_pred[:10]"
   ]
  },
  {
   "cell_type": "code",
   "execution_count": null,
   "id": "d2b0bc54",
   "metadata": {},
   "outputs": [],
   "source": [
    "# Make Predictions\n",
    "y_pred = logit.predict(X_train)\n",
    "y_pred[:10]"
   ]
  },
  {
   "cell_type": "code",
   "execution_count": null,
   "id": "77d4fb38",
   "metadata": {},
   "outputs": [],
   "source": [
    "y_train[:10]"
   ]
  },
  {
   "cell_type": "code",
   "execution_count": null,
   "id": "12642c81",
   "metadata": {},
   "outputs": [],
   "source": [
    "# Estimate Probability\n",
    "y_pred_proba = logit.predict_proba(X_train)\n",
    "y_pred_proba[:10]"
   ]
  },
  {
   "cell_type": "code",
   "execution_count": null,
   "id": "a61d2298",
   "metadata": {},
   "outputs": [],
   "source": [
    "#evaluate model\n",
    "# Compute the Accuracy\n",
    "print('Accuracy of logistic regression model on training set: {:.2f}'\n",
    "     .format(logit.score(X_train, y_train)))"
   ]
  },
  {
   "cell_type": "code",
   "execution_count": null,
   "id": "f4abbb30",
   "metadata": {},
   "outputs": [],
   "source": [
    "#true neg, false pos, false neg, true pos with.ravel method, works on confusion matrix 2x2\n",
    "TN, FP, FN, TP = confusion_matrix(y_train, y_pred).ravel()\n",
    "TN, FP, FN, TP"
   ]
  },
  {
   "cell_type": "code",
   "execution_count": null,
   "id": "6bdd100c",
   "metadata": {},
   "outputs": [],
   "source": [
    "negative_cases = TN + FP\n",
    "positive_cases = FN + TP\n",
    "print(f\"Negative Cases: {negative_cases}\")\n",
    "print(f\"Positive Cases: {positive_cases}\")\n",
    "print(y_train.value_counts())"
   ]
  },
  {
   "cell_type": "code",
   "execution_count": null,
   "id": "602a17f9",
   "metadata": {},
   "outputs": [],
   "source": [
    "ALL = TP + FP + FN + TN\n",
    "\n",
    "accuracy = (TP + TN)/ALL\n",
    "true_positive_rate = sensitivity = recall = power = TP/(TP+FN)\n",
    "false_positive_rate = false_alarm_ratio = fallout = FP/(FP+TN)\n",
    "true_negative_rate = specificity = selectivity = TN/(TN+FP)\n",
    "false_negative_rate = miss_rate = FN/(FN+TP)\n",
    "precision = PPV = TP/(TP+FP)\n",
    "f1_score = 2*(precision*recall)/(precision+recall)\n",
    "support_pos = TP + FN\n",
    "support_neg = FP + TN\n",
    "\n",
    "print(f\"Accuracy: {accuracy}\", '\\n')\n",
    "print(f\"True Positive Rate/Sensitivity/Recall/Power: {true_positive_rate}\", '\\n')\n",
    "print(f\"False Positive Rate/False Alarm Ratio/Fall-out: {false_positive_rate}\", '\\n')\n",
    "print(f\"True Negative Rate/Specificity/Selectivity: {true_negative_rate}\", '\\n')\n",
    "print(f\"False Negative Rate/Miss Rate: {false_negative_rate}\", '\\n')\n",
    "print(f\"Precision/PPV: {precision}\", '\\n')\n",
    "print(f\"F1 Score: {f1_score}\", '\\n')\n",
    "print(f\"Support (0): {support_neg}\", '\\n')\n",
    "print(f\"Support (1): {support_pos}\")"
   ]
  },
  {
   "cell_type": "code",
   "execution_count": null,
   "id": "80a0c232",
   "metadata": {},
   "outputs": [],
   "source": [
    "print(classification_report(y_train, y_pred))"
   ]
  },
  {
   "cell_type": "code",
   "execution_count": null,
   "id": "f14cae85",
   "metadata": {},
   "outputs": [],
   "source": [
    "#loop to compare in sample and out of sample\n",
    "\n",
    "metrics=[]\n",
    "\n",
    "for i in range(1,10):\n",
    "    logit = LogisticRegression(C=1/i**i, random_state=123, solver='saga') #make model \n",
    "\n",
    "    logit = logit.fit(X_train, y_train) #fit model\n",
    "   \n",
    "    in_sample_accuracy=logit.score(X_train, y_train) #usemodel on train\n",
    "    \n",
    "    out_of_sample_accuracy = logit.score(X_validate, y_validate)#use model on validate\n",
    "    \n",
    "    output = {\n",
    "        \"c value\":1/i**i,\n",
    "        \"train_accuracy\":in_sample_accuracy,\n",
    "        \"validate_accuracy\":out_of_sample_accuracy\n",
    "    }\n",
    "    metrics.append(output)\n",
    "df = pd.DataFrame(metrics)\n",
    "df[\"difference\"]=df.train_accuracy-df.validate_accuracy\n",
    "df"
   ]
  },
  {
   "cell_type": "code",
   "execution_count": null,
   "id": "dc3bd8b7",
   "metadata": {},
   "outputs": [],
   "source": []
  },
  {
   "cell_type": "code",
   "execution_count": null,
   "id": "c9cb8583",
   "metadata": {},
   "outputs": [],
   "source": [
    "# All features, all default hyperparameters\n",
    "logit2 = LogisticRegression(random_state=123)\n",
    "\n",
    "logit2.fit(X_train, y_train)\n",
    "\n",
    "y_pred = logit2.predict(X_train)\n",
    "\n",
    "print(\"Model trained on all features\")\n",
    "print('Accuracy of Logistic Regression classifier on training set: {:.3f}'\n",
    "     .format(logit2.score(X_train, y_train)))"
   ]
  },
  {
   "cell_type": "code",
   "execution_count": null,
   "id": "403fac2f",
   "metadata": {},
   "outputs": [],
   "source": [
    "# All features, but we'll use the class_weights to hold the actual ratios`\n",
    "logit3 = LogisticRegression(random_state=123, class_weight='balanced')\n",
    "\n",
    "logit3.fit(X_train, y_train)\n",
    "\n",
    "y_pred = logit3.predict(X_train)\n",
    "\n",
    "accuracy = logit3.score(X_train, y_train)\n",
    "\n",
    "print(\"All Features and we're setting the class_weight hyperparameter\")\n",
    "print(f'Accuracy of Logistic Regression classifier on training set: {accuracy:.2}')"
   ]
  },
  {
   "cell_type": "code",
   "execution_count": null,
   "id": "3c672b7e",
   "metadata": {},
   "outputs": [],
   "source": [
    "# Only tenure and monthly charges \n",
    "features = ['tenure', 'monthly_charges']\n",
    "\n",
    "\n",
    "logit4 = LogisticRegression(random_state=123)\n",
    "\n",
    "logit4.fit(X_train[features], y_train)\n",
    "\n",
    "y_pred = logit4.predict(X_train[features])\n",
    "\n",
    "accuracy = logit4.score(X_train[features], y_train)\n",
    "\n",
    "print(\"Only tenure and monthly charges Features \")\n",
    "print(f'Accuracy of Logistic Regression classifier on training set: {accuracy:.2}')"
   ]
  },
  {
   "cell_type": "code",
   "execution_count": null,
   "id": "71dd262a",
   "metadata": {},
   "outputs": [],
   "source": [
    "# Only 'senior_citizen','tenure', 'contract_type_One year','internet_service_type_Fiber optic'\n",
    "features = [ 'senior_citizen','tenure', 'contract_type_One year','internet_service_type_Fiber optic']\n",
    "\n",
    "# All features, but we'll use the class_weights to hold the actual ratios\n",
    "logit5 = LogisticRegression( random_state=123)\n",
    "\n",
    "logit5.fit(X_train[features], y_train)\n",
    "\n",
    "y_pred = logit5.predict(X_train[features])\n",
    "accuracy = logit5.score(X_train[features], y_train)\n",
    "\n",
    "print(\"Only senior_citizen, tenure, contract_type_One year', internet_service_type_Fiber optic\")\n",
    "print(f'Accuracy of Logistic Regression classifier on training set: {accuracy:.3}')"
   ]
  },
  {
   "cell_type": "code",
   "execution_count": null,
   "id": "51196057",
   "metadata": {},
   "outputs": [],
   "source": [
    "# Only 'monthly_charges','payment_type_Credit card (automatic)','payment_type_Electronic check','payment_type_Mailed check'\n",
    "features = [ 'monthly_charges','payment_type_Credit card (automatic)','payment_type_Electronic check','payment_type_Mailed check']\n",
    "\n",
    "# All features, but we'll use the class_weights to hold the actual ratios\n",
    "logit6 = LogisticRegression( random_state=123)\n",
    "\n",
    "logit6.fit(X_train[features], y_train)\n",
    "\n",
    "y_pred = logit6.predict(X_train[features])\n",
    "accuracy = logit6.score(X_train[features], y_train)\n",
    "\n",
    "print(\"monthly_charges, payment_type_Credit card (automatic), payment_type_Electronic check, payment_type_Mailed check features\")\n",
    "print(f'Accuracy of Logistic Regression classifier on training set: {accuracy:.2}')"
   ]
  },
  {
   "cell_type": "code",
   "execution_count": null,
   "id": "e74a4f9e",
   "metadata": {},
   "outputs": [],
   "source": [
    "# All Features, C ~ 0\n",
    "# All features, but we'll use the class_weights to hold the actual ratios\n",
    "features = ['senior_citizen', 'tenure', 'monthly_charges', 'contract_type_One year', 'contract_type_Two year', 'internet_service_type_Fiber optic', 'internet_service_type_None', 'payment_type_Credit card (automatic)','payment_type_Electronic check','payment_type_Mailed check']\n",
    "\n",
    "logit6 = LogisticRegression(random_state=123, C=0.0001)\n",
    "\n",
    "logit6.fit(X_train, y_train)\n",
    "\n",
    "y_pred = logit6.predict(X_train)\n",
    "accuracy = logit6.score(X_train, y_train)\n",
    "\n",
    "print(\"All Features, C hyperparameter approaching 0\")\n",
    "print(\"Baseline is\", round(baseline_accuracy, 2))\n",
    "print(f'Accuracy of this Logistic Regression on training set: {accuracy:.2}')"
   ]
  },
  {
   "cell_type": "code",
   "execution_count": null,
   "id": "d27c995a",
   "metadata": {},
   "outputs": [],
   "source": []
  },
  {
   "cell_type": "code",
   "execution_count": null,
   "id": "f192c761",
   "metadata": {},
   "outputs": [],
   "source": [
    "# Now Let's Pick our Best Models and Evaluate on Validate!\n",
    "# logit trained with  all features features and has .80 accuracy on train\n",
    "# logit4 trained on features = [ 'senior_citizen','tenure', 'contract_type_One year','internet_service_type_Fiber optic'] has .79 accuracy\n",
    "# logit6 trained on all features with c value approaching 0 has a .79 accuracy"
   ]
  },
  {
   "cell_type": "code",
   "execution_count": null,
   "id": "cc9bb5ee",
   "metadata": {},
   "outputs": [],
   "source": [
    "#logit validate\n",
    "features = ['senior_citizen', 'tenure', 'monthly_charges', 'contract_type_One year', 'contract_type_Two year', 'internet_service_type_Fiber optic', 'internet_service_type_None', 'payment_type_Credit card (automatic)','payment_type_Electronic check','payment_type_Mailed check']\n",
    "\n",
    "\n",
    "y_pred = logit.predict(X_validate[features])\n",
    "\n",
    "print('Logit model using all features')\n",
    "print(classification_report(y_validate, y_pred))"
   ]
  },
  {
   "cell_type": "code",
   "execution_count": null,
   "id": "b85fe725",
   "metadata": {},
   "outputs": [],
   "source": [
    "#logit4 validate\n",
    "features = ['tenure', 'monthly_charges']\n",
    "\n",
    "y_pred = logit4.predict(X_validate[features])\n",
    "\n",
    "print('Only tenure and monthly charges as the features')\n",
    "print(classification_report(y_validate, y_pred))"
   ]
  },
  {
   "cell_type": "code",
   "execution_count": null,
   "id": "e12ff022",
   "metadata": {},
   "outputs": [],
   "source": [
    "#logit6 validate\n",
    "features = ['senior_citizen', 'tenure', 'monthly_charges', 'contract_type_One year', 'contract_type_Two year', 'internet_service_type_Fiber optic', 'internet_service_type_None', 'payment_type_Credit card (automatic)','payment_type_Electronic check','payment_type_Mailed check']\n",
    "y_pred = logit6.predict(X_validate[features])\n",
    "print('Logit1 model using age, pclass, fare, and is_female as the features')\n",
    "print(classification_report(y_validate, y_pred))"
   ]
  },
  {
   "cell_type": "code",
   "execution_count": null,
   "id": "02e83350",
   "metadata": {},
   "outputs": [],
   "source": []
  },
  {
   "cell_type": "code",
   "execution_count": null,
   "id": "4f62b799",
   "metadata": {},
   "outputs": [],
   "source": [
    "#test"
   ]
  },
  {
   "cell_type": "code",
   "execution_count": null,
   "id": "ec17e9f0",
   "metadata": {},
   "outputs": [],
   "source": [
    "get_metrics(rf, X_test, y_test)"
   ]
  },
  {
   "cell_type": "code",
   "execution_count": null,
   "id": "37fa6591",
   "metadata": {},
   "outputs": [],
   "source": [
    "#predict On Test Model\n",
    "#In order to create predictions on the entire df, I will need to acquire a fresh version of my TELCO data set."
   ]
  },
  {
   "cell_type": "code",
   "execution_count": null,
   "id": "05fe2b57",
   "metadata": {},
   "outputs": [],
   "source": [
    "# Acquire data\n",
    "telco = acquire.get_telco_data()"
   ]
  },
  {
   "cell_type": "code",
   "execution_count": null,
   "id": "6d10c196",
   "metadata": {},
   "outputs": [],
   "source": [
    "# Clean & prep data\n",
    "telco = prepare.prep_telco_data(telco)"
   ]
  },
  {
   "cell_type": "code",
   "execution_count": null,
   "id": "a3cc25b8",
   "metadata": {},
   "outputs": [],
   "source": [
    "# Double check it looks correct\n",
    "telco.info()"
   ]
  },
  {
   "cell_type": "code",
   "execution_count": null,
   "id": "e150d69f",
   "metadata": {},
   "outputs": [],
   "source": [
    "#remove all the columns that werent used as features"
   ]
  },
  {
   "cell_type": "code",
   "execution_count": null,
   "id": "616aad65",
   "metadata": {},
   "outputs": [],
   "source": []
  },
  {
   "cell_type": "code",
   "execution_count": null,
   "id": "cf945014",
   "metadata": {},
   "outputs": [],
   "source": [
    "dropcols = ['total_charges', 'churn', 'contract_type', 'internet_service_type', \n",
    "            'payment_type', 'gender_encoded', 'partner_encoded', 'dependents_encoded', \n",
    "            'phone_service_encoded', 'paperless_billing_encoded', 'churn_encoded', \n",
    "            'multiple_lines_No phone service', 'multiple_lines_Yes', \n",
    "            'online_security_No internet service', 'online_security_Yes', \n",
    "            'online_backup_No internet service', 'online_security_Yes', \n",
    "            'online_backup_No internet service', 'online_backup_Yes', \n",
    "            'device_protection_No internet service', 'device_protection_Yes', \n",
    "            'tech_support_No internet service', 'tech_support_Yes', \n",
    "            'streaming_tv_No internet service', 'streaming_tv_Yes', \n",
    "            'streaming_movies_No internet service','streaming_movies_Yes']\n"
   ]
  },
  {
   "cell_type": "code",
   "execution_count": null,
   "id": "521d5ff7",
   "metadata": {},
   "outputs": [],
   "source": [
    "# # Dropcols\n",
    "telco.drop(columns= dropcols, inplace=True)"
   ]
  },
  {
   "cell_type": "code",
   "execution_count": null,
   "id": "21821a1e",
   "metadata": {},
   "outputs": [],
   "source": [
    "#run my final model rf on my telco df to create a new dataframe of all predicted Probability of churn.\n",
    "churn_probability=pd.DataFrame({'churn_probability': rf.predict_proba(telco)[:,1]})"
   ]
  },
  {
   "cell_type": "code",
   "execution_count": null,
   "id": "ddfd7ba2",
   "metadata": {},
   "outputs": [],
   "source": [
    "churn_probability.head()"
   ]
  },
  {
   "cell_type": "code",
   "execution_count": null,
   "id": "322dbec4",
   "metadata": {},
   "outputs": [],
   "source": [
    "#created a new column in my telco df that contains a boolean prediction of churn per customer.\n",
    "telco['prediction'] = rf.predict(telco)"
   ]
  },
  {
   "cell_type": "code",
   "execution_count": null,
   "id": "6b8095cb",
   "metadata": {},
   "outputs": [],
   "source": [
    "#slice that column off into it's own dataframe.\n",
    "churn_pred = pd.DataFrame(telco['prediction'])\n",
    "churn_pred.info()"
   ]
  },
  {
   "cell_type": "code",
   "execution_count": null,
   "id": "6017a4ea",
   "metadata": {},
   "outputs": [],
   "source": [
    "# Export Predictions to CSV"
   ]
  },
  {
   "cell_type": "code",
   "execution_count": null,
   "id": "deb72bef",
   "metadata": {},
   "outputs": [],
   "source": [
    "# Now there are two dataframes of my predictions and their probabilities, \n",
    "# need to create one last dataframe of the customer_ids."
   ]
  },
  {
   "cell_type": "code",
   "execution_count": null,
   "id": "e9048aba",
   "metadata": {},
   "outputs": [],
   "source": [
    "customer_id = pd.DataFrame(acquire.get_telco_data()['customer_id'])\n",
    "customer_id.head()"
   ]
  },
  {
   "cell_type": "code",
   "execution_count": null,
   "id": "679e89e7",
   "metadata": {},
   "outputs": [],
   "source": [
    "# concatenate the three columns into a single dataframe."
   ]
  },
  {
   "cell_type": "code",
   "execution_count": null,
   "id": "b25ec166",
   "metadata": {},
   "outputs": [],
   "source": [
    "predictions = pd.concat([customer_id, churn_probability, churn_pred], axis =1)"
   ]
  },
  {
   "cell_type": "code",
   "execution_count": null,
   "id": "0708b623",
   "metadata": {},
   "outputs": [],
   "source": [
    "predictions.head()"
   ]
  },
  {
   "cell_type": "code",
   "execution_count": null,
   "id": "b62205d8",
   "metadata": {},
   "outputs": [],
   "source": [
    "#create a CSV version of final dataframe."
   ]
  },
  {
   "cell_type": "code",
   "execution_count": null,
   "id": "caee2d01",
   "metadata": {},
   "outputs": [],
   "source": [
    "predictions.to_csv('predictions.csv')"
   ]
  },
  {
   "cell_type": "markdown",
   "id": "9aac5b3d",
   "metadata": {},
   "source": [
    "## Conclusion/Summary\n",
    "#### Customer churn is a complex target variable, however, through extensive data analysis and modeling, we were able to discover the leading drivers of churn at Telco. We found that contract type of month to month, monthly charges, internet service type of fiber optic, and payment type of electronic checks were the biggest driver. It is my estimate that a combination of high cost for fiber for the month to month customers that utilize electronic checks were the biggest contributing factors to churn.\n"
   ]
  },
  {
   "cell_type": "markdown",
   "id": "b9edbcbb",
   "metadata": {},
   "source": [
    "## Next Steps\n",
    "#### In order to make the most impact with regards to reducing customer churn, we should strive to lower the monthly rate fiber customers to at least the average monthly rate of the customer base. If we can incentivize with a lower monthly rate if the customer signs up for a 12 or 24 month contract utilizing auto bill pay, we can hit the majority of the factors impacting churn and increase overall customer retention."
   ]
  },
  {
   "cell_type": "code",
   "execution_count": null,
   "id": "9ce303f1",
   "metadata": {},
   "outputs": [],
   "source": []
  },
  {
   "cell_type": "code",
   "execution_count": null,
   "id": "dcb75a75",
   "metadata": {},
   "outputs": [],
   "source": []
  },
  {
   "cell_type": "code",
   "execution_count": null,
   "id": "037ac831",
   "metadata": {},
   "outputs": [],
   "source": []
  },
  {
   "cell_type": "code",
   "execution_count": null,
   "id": "19b6091d",
   "metadata": {},
   "outputs": [],
   "source": []
  },
  {
   "cell_type": "code",
   "execution_count": null,
   "id": "c28bd9c8",
   "metadata": {},
   "outputs": [],
   "source": []
  },
  {
   "cell_type": "code",
   "execution_count": null,
   "id": "4a1da5b8",
   "metadata": {},
   "outputs": [],
   "source": []
  },
  {
   "cell_type": "code",
   "execution_count": null,
   "id": "81cbd38f",
   "metadata": {},
   "outputs": [],
   "source": []
  },
  {
   "cell_type": "code",
   "execution_count": null,
   "id": "e05d0e8b",
   "metadata": {},
   "outputs": [],
   "source": []
  },
  {
   "cell_type": "code",
   "execution_count": null,
   "id": "b89aae44",
   "metadata": {},
   "outputs": [],
   "source": []
  },
  {
   "cell_type": "code",
   "execution_count": null,
   "id": "25f0a5b1",
   "metadata": {},
   "outputs": [],
   "source": []
  },
  {
   "cell_type": "code",
   "execution_count": null,
   "id": "c96de5a7",
   "metadata": {},
   "outputs": [],
   "source": []
  },
  {
   "cell_type": "code",
   "execution_count": null,
   "id": "b7ae2769",
   "metadata": {},
   "outputs": [],
   "source": []
  },
  {
   "cell_type": "code",
   "execution_count": null,
   "id": "09f48e23",
   "metadata": {},
   "outputs": [],
   "source": []
  },
  {
   "cell_type": "code",
   "execution_count": null,
   "id": "6a72cd48",
   "metadata": {},
   "outputs": [],
   "source": []
  },
  {
   "cell_type": "code",
   "execution_count": null,
   "id": "32de85f8",
   "metadata": {},
   "outputs": [],
   "source": []
  },
  {
   "cell_type": "code",
   "execution_count": null,
   "id": "835bc535",
   "metadata": {},
   "outputs": [],
   "source": []
  },
  {
   "cell_type": "code",
   "execution_count": null,
   "id": "0f886ad0",
   "metadata": {},
   "outputs": [],
   "source": []
  },
  {
   "cell_type": "code",
   "execution_count": null,
   "id": "47b6a982",
   "metadata": {},
   "outputs": [],
   "source": []
  },
  {
   "cell_type": "code",
   "execution_count": null,
   "id": "6b82cfd0",
   "metadata": {},
   "outputs": [],
   "source": []
  },
  {
   "cell_type": "code",
   "execution_count": null,
   "id": "7c435163",
   "metadata": {},
   "outputs": [],
   "source": []
  },
  {
   "cell_type": "code",
   "execution_count": null,
   "id": "3f427f54",
   "metadata": {},
   "outputs": [],
   "source": []
  },
  {
   "cell_type": "code",
   "execution_count": null,
   "id": "5a992cd3",
   "metadata": {},
   "outputs": [],
   "source": []
  },
  {
   "cell_type": "code",
   "execution_count": null,
   "id": "94a09f34",
   "metadata": {},
   "outputs": [],
   "source": []
  },
  {
   "cell_type": "code",
   "execution_count": null,
   "id": "6d9e1b34",
   "metadata": {},
   "outputs": [],
   "source": []
  },
  {
   "cell_type": "code",
   "execution_count": null,
   "id": "18d461cf",
   "metadata": {},
   "outputs": [],
   "source": []
  },
  {
   "cell_type": "code",
   "execution_count": null,
   "id": "ffad76d7",
   "metadata": {},
   "outputs": [],
   "source": []
  },
  {
   "cell_type": "code",
   "execution_count": null,
   "id": "656b42f7",
   "metadata": {},
   "outputs": [],
   "source": []
  },
  {
   "cell_type": "code",
   "execution_count": null,
   "id": "6fe6706f",
   "metadata": {},
   "outputs": [],
   "source": []
  },
  {
   "cell_type": "code",
   "execution_count": null,
   "id": "a8878198",
   "metadata": {},
   "outputs": [],
   "source": []
  },
  {
   "cell_type": "code",
   "execution_count": null,
   "id": "c88c1931",
   "metadata": {},
   "outputs": [],
   "source": []
  },
  {
   "cell_type": "code",
   "execution_count": null,
   "id": "0859d32f",
   "metadata": {},
   "outputs": [],
   "source": []
  },
  {
   "cell_type": "code",
   "execution_count": null,
   "id": "fdd525f7",
   "metadata": {},
   "outputs": [],
   "source": []
  },
  {
   "cell_type": "code",
   "execution_count": null,
   "id": "c517ace0",
   "metadata": {},
   "outputs": [],
   "source": []
  },
  {
   "cell_type": "code",
   "execution_count": null,
   "id": "770fdf4f",
   "metadata": {},
   "outputs": [],
   "source": []
  },
  {
   "cell_type": "code",
   "execution_count": null,
   "id": "76ec6ad4",
   "metadata": {},
   "outputs": [],
   "source": []
  },
  {
   "cell_type": "code",
   "execution_count": null,
   "id": "f8f71230",
   "metadata": {},
   "outputs": [],
   "source": []
  },
  {
   "cell_type": "code",
   "execution_count": null,
   "id": "2a615d46",
   "metadata": {},
   "outputs": [],
   "source": []
  },
  {
   "cell_type": "code",
   "execution_count": null,
   "id": "10a0af5c",
   "metadata": {},
   "outputs": [],
   "source": []
  },
  {
   "cell_type": "code",
   "execution_count": null,
   "id": "0ab30766",
   "metadata": {},
   "outputs": [],
   "source": []
  },
  {
   "cell_type": "code",
   "execution_count": null,
   "id": "cbd2a52f",
   "metadata": {},
   "outputs": [],
   "source": []
  },
  {
   "cell_type": "code",
   "execution_count": null,
   "id": "664909ad",
   "metadata": {},
   "outputs": [],
   "source": []
  },
  {
   "cell_type": "code",
   "execution_count": null,
   "id": "5a4809f2",
   "metadata": {},
   "outputs": [],
   "source": []
  },
  {
   "cell_type": "code",
   "execution_count": null,
   "id": "91953caa",
   "metadata": {},
   "outputs": [],
   "source": []
  },
  {
   "cell_type": "code",
   "execution_count": null,
   "id": "def3f735",
   "metadata": {},
   "outputs": [],
   "source": []
  },
  {
   "cell_type": "code",
   "execution_count": null,
   "id": "2cf6ca49",
   "metadata": {},
   "outputs": [],
   "source": []
  },
  {
   "cell_type": "code",
   "execution_count": null,
   "id": "faf74e81",
   "metadata": {},
   "outputs": [],
   "source": []
  },
  {
   "cell_type": "code",
   "execution_count": null,
   "id": "0910360d",
   "metadata": {},
   "outputs": [],
   "source": []
  },
  {
   "cell_type": "code",
   "execution_count": null,
   "id": "e39f21b7",
   "metadata": {},
   "outputs": [],
   "source": []
  },
  {
   "cell_type": "code",
   "execution_count": null,
   "id": "f9713db1",
   "metadata": {},
   "outputs": [],
   "source": []
  },
  {
   "cell_type": "code",
   "execution_count": null,
   "id": "01f838d0",
   "metadata": {},
   "outputs": [],
   "source": []
  },
  {
   "cell_type": "code",
   "execution_count": null,
   "id": "cf1435ad",
   "metadata": {},
   "outputs": [],
   "source": []
  },
  {
   "cell_type": "code",
   "execution_count": null,
   "id": "589da9b4",
   "metadata": {},
   "outputs": [],
   "source": []
  },
  {
   "cell_type": "code",
   "execution_count": null,
   "id": "04ff2ce6",
   "metadata": {},
   "outputs": [],
   "source": []
  },
  {
   "cell_type": "code",
   "execution_count": null,
   "id": "0175fe29",
   "metadata": {},
   "outputs": [],
   "source": []
  },
  {
   "cell_type": "code",
   "execution_count": null,
   "id": "212b700e",
   "metadata": {},
   "outputs": [],
   "source": []
  },
  {
   "cell_type": "code",
   "execution_count": null,
   "id": "98fcc8f4",
   "metadata": {},
   "outputs": [],
   "source": []
  },
  {
   "cell_type": "code",
   "execution_count": null,
   "id": "5925a001",
   "metadata": {},
   "outputs": [],
   "source": []
  },
  {
   "cell_type": "code",
   "execution_count": null,
   "id": "9f9a0d46",
   "metadata": {},
   "outputs": [],
   "source": []
  },
  {
   "cell_type": "code",
   "execution_count": null,
   "id": "ab2452aa",
   "metadata": {},
   "outputs": [],
   "source": []
  },
  {
   "cell_type": "code",
   "execution_count": null,
   "id": "71471693",
   "metadata": {},
   "outputs": [],
   "source": []
  },
  {
   "cell_type": "code",
   "execution_count": null,
   "id": "d897c0b5",
   "metadata": {},
   "outputs": [],
   "source": []
  },
  {
   "cell_type": "code",
   "execution_count": null,
   "id": "733b5033",
   "metadata": {},
   "outputs": [],
   "source": []
  },
  {
   "cell_type": "code",
   "execution_count": null,
   "id": "adb8141d",
   "metadata": {},
   "outputs": [],
   "source": []
  },
  {
   "cell_type": "code",
   "execution_count": null,
   "id": "bf474e80",
   "metadata": {},
   "outputs": [],
   "source": []
  },
  {
   "cell_type": "code",
   "execution_count": null,
   "id": "5db9ad6a",
   "metadata": {},
   "outputs": [],
   "source": []
  },
  {
   "cell_type": "code",
   "execution_count": null,
   "id": "330ae8fd",
   "metadata": {},
   "outputs": [],
   "source": []
  },
  {
   "cell_type": "code",
   "execution_count": null,
   "id": "616fa469",
   "metadata": {},
   "outputs": [],
   "source": []
  },
  {
   "cell_type": "code",
   "execution_count": null,
   "id": "719f3b39",
   "metadata": {},
   "outputs": [],
   "source": []
  },
  {
   "cell_type": "code",
   "execution_count": null,
   "id": "042c2da8",
   "metadata": {},
   "outputs": [],
   "source": []
  },
  {
   "cell_type": "code",
   "execution_count": null,
   "id": "f8669a02",
   "metadata": {},
   "outputs": [],
   "source": []
  },
  {
   "cell_type": "code",
   "execution_count": null,
   "id": "64b237ed",
   "metadata": {},
   "outputs": [],
   "source": []
  },
  {
   "cell_type": "code",
   "execution_count": null,
   "id": "360430a4",
   "metadata": {},
   "outputs": [],
   "source": []
  },
  {
   "cell_type": "code",
   "execution_count": null,
   "id": "d3f119e6",
   "metadata": {},
   "outputs": [],
   "source": []
  },
  {
   "cell_type": "code",
   "execution_count": null,
   "id": "eaf9a79d",
   "metadata": {},
   "outputs": [],
   "source": []
  }
 ],
 "metadata": {
  "kernelspec": {
   "display_name": "Python 3 (ipykernel)",
   "language": "python",
   "name": "python3"
  },
  "language_info": {
   "codemirror_mode": {
    "name": "ipython",
    "version": 3
   },
   "file_extension": ".py",
   "mimetype": "text/x-python",
   "name": "python",
   "nbconvert_exporter": "python",
   "pygments_lexer": "ipython3",
   "version": "3.9.12"
  }
 },
 "nbformat": 4,
 "nbformat_minor": 5
}
